{
  "cells": [
    {
      "cell_type": "markdown",
      "metadata": {
        "colab_type": "text",
        "id": "view-in-github"
      },
      "source": [
        "<a href=\"https://colab.research.google.com/github/GabrielRamirezs/Metodos1_KarenQuevedo_GabrielRamirez/blob/main/Tarea2.ipynb\" target=\"_parent\"><img src=\"https://colab.research.google.com/assets/colab-badge.svg\" alt=\"Open In Colab\"/></a>"
      ]
    },
    {
      "cell_type": "code",
      "execution_count": null,
      "metadata": {
        "id": "Ecsmw2H1cSe_"
      },
      "outputs": [],
      "source": [
        "import numpy as np\n",
        "import matplotlib.pyplot as plt\n",
        "import sympy as sym"
      ]
    },
    {
      "cell_type": "code",
      "execution_count": null,
      "metadata": {
        "id": "RHS7QwmZ6qRx"
      },
      "outputs": [],
      "source": [
        "#8\n",
        "x_0, x_1, x_2 = sym.symbols('x_0 x_1 x_2')\n",
        "f_x0, f_x1, f_x2 = sym.symbols('f_x0 f_x1 f_x2')\n",
        "X = np.array([x_0, x_1, x_2])\n",
        "Y = np.array([f_x0, f_x1, f_x2])\n",
        "x= sym.Symbol('x',real=True)\n",
        "def Lagrange(x,X,i):\n",
        "  L = 1\n",
        "  for j in range(len(X)):\n",
        "    if i != j:\n",
        "      L *= (x-X[j])/(X[i]-X[j])\n",
        "  return L\n",
        "Lagrange(x,X,0)\n",
        "Lagrange(x,X,1)\n",
        "Lagrange(x,X,2)\n",
        "def Interpolate(x,X,Y):\n",
        "\n",
        "  Poly = 0\n",
        "  for i in range(len(X)):\n",
        "    Poly += Y[i]*Lagrange(x,X,i)\n",
        "  return Poly\n",
        "poly = Interpolate(x,X,Y)\n",
        "poly = poly.expand()\n",
        "poly"
      ]
    },
    {
      "cell_type": "code",
      "execution_count": null,
      "metadata": {},
      "outputs": [],
      "source": [
        "poly_prime = sym.diff(poly, x)\n",
        "poly_prime"
      ]
    },
    {
      "cell_type": "code",
      "execution_count": null,
      "metadata": {},
      "outputs": [],
      "source": [
        "derivada_x0 = poly_prime.subs(x, x_0)\n",
        "derivada_x0"
      ]
    },
    {
      "cell_type": "code",
      "execution_count": null,
      "metadata": {},
      "outputs": [],
      "source": [
        "#c\n",
        "def f(x):\n",
        "    return np.sqrt(np.tan(x))\n",
        "\n",
        "def derivada_progresiva(x, h):\n",
        "    return (1 / (2 * h)) * (-3 * f(x) + 4 * f(x + h) - f(x + 2 * h))\n",
        "\n",
        "x_vals = np.arange(0.1, 1.1, 0.01)\n",
        "h = 0.01\n",
        "derivadas = [derivada_progresiva(x, h) for x in x_vals]\n",
        "\n",
        "plt.plot(x_vals, derivadas, label=\"Derivada Progresiva\")\n",
        "plt.xlabel('x')\n",
        "plt.ylabel(\"f'(x)\")\n",
        "\n",
        "plt.legend()\n",
        "plt.show()"
      ]
    },
    {
      "cell_type": "code",
      "execution_count": null,
      "metadata": {},
      "outputs": [],
      "source": [
        "#d\n",
        "def f(x):\n",
        "    return np.sqrt(np.tan(x))\n",
        "\n",
        "def derivada_central(x, h):\n",
        "    return (1 / (h**2)) * (f(x+h)-2*f(x)+f(x-h))\n",
        "\n",
        "x_vals = np.arange(0.1, 1.1, 0.01)\n",
        "h = 0.01\n",
        "derivadas = [derivada_central(x, h) for x in x_vals]\n",
        "\n",
        "plt.plot(x_vals, derivadas, label=\"Derivada Central\",color=\"r\")\n",
        "plt.xlabel('x')\n",
        "plt.ylabel(\"f'(x)\")\n",
        "\n",
        "plt.legend()\n",
        "plt.show()"
      ]
    },
    {
      "cell_type": "code",
      "execution_count": null,
      "metadata": {},
      "outputs": [],
      "source": [
        "#e\n",
        "def f_primera_analitica(x):\n",
        "    return (1 / (2 * np.sqrt(np.tan(x)))) * (1 / np.cos(x))**2\n",
        "#Es lo mismo que la derivada progresiva\n",
        "def segunda_derivada_analitica(x):\n",
        "    sec_x = 1 / np.cos(x)\n",
        "    tan_x = np.tan(x)\n",
        "    return (4 * sec_x**2 * tan_x * np.sqrt(tan_x) - sec_x**4) / (4 * tan_x)\n",
        "\n",
        "x_vals = np.arange(0.1, 1.1, 0.01)\n",
        "h = 0.01\n",
        "derivadas_analiticas = f_primera_analitica(x_vals)\n",
        "derivadas_centrales = [derivada_central(x, h) for x in x_vals]\n",
        "derivadas_progresivas = [derivada_progresiva(x, h) for x in x_vals]\n",
        "segunda_derivada_analiticas = segunda_derivada_analitica(x_vals)\n",
        "\n",
        "plt.plot(x_vals, derivadas_analiticas, label=\"Derivada Analítica\")\n",
        "plt.plot(x_vals, derivadas_centrales, '--', label=\"Derivada Central \")\n",
        "plt.plot(x_vals, derivadas_progresivas, '--', label=\"Derivada Progresiva \",color=\"r\")\n",
        "plt.plot(x_vals, segunda_derivada_analiticas, label=\"Segunda Derivada Analítica\")\n",
        "plt.xlabel('x')\n",
        "plt.ylabel(\"f'(x)\")\n",
        "plt.legend()\n",
        "plt.show()"
      ]
    },
    {
      "cell_type": "code",
      "execution_count": null,
      "metadata": {},
      "outputs": [],
      "source": [
        "errores_centrales = np.abs(derivadas_analiticas - derivadas_centrales)\n",
        "errores_progresivos = np.abs(segunda_derivada_analiticas - derivadas_progresivas)\n",
        "\n",
        "plt.plot(x_vals, errores_centrales, label=\"Error Central O(h^2)\")\n",
        "plt.plot(x_vals, errores_progresivos, label=\"Error Progresivo O(h^2)\")\n",
        "plt.xlabel('x')\n",
        "plt.ylabel(\"Error\")\n",
        "plt.legend()\n",
        "plt.show()"
      ]
    },
    {
      "cell_type": "code",
      "execution_count": 1,
      "metadata": {
        "id": "OWidSHGc6vyV"
      },
      "outputs": [],
      "source": [
        "#Interpolacion de Langrage\n",
        "#2\n"
      ]
    },
    {
      "cell_type": "code",
      "execution_count": null,
      "metadata": {
        "id": "PwYtuuoB60Zy"
      },
      "outputs": [],
      "source": [
        "#3"
      ]
    },
    {
      "cell_type": "code",
      "execution_count": null,
      "metadata": {
        "id": "svLVgtDG61Ea"
      },
      "outputs": [],
      "source": [
        "#4\n"
      ]
    },
    {
      "cell_type": "code",
      "execution_count": null,
      "metadata": {
        "id": "4vijytTN61iE"
      },
      "outputs": [],
      "source": []
    }
  ],
  "metadata": {
    "colab": {
      "authorship_tag": "ABX9TyPQF5rvlGxSu3biIjGk84nb",
      "include_colab_link": true,
      "provenance": []
    },
    "kernelspec": {
      "display_name": "Python 3",
      "name": "python3"
    },
    "language_info": {
      "name": "python"
    }
  },
  "nbformat": 4,
  "nbformat_minor": 0
}
