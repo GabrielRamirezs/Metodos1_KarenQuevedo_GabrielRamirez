{
  "cells": [
    {
      "cell_type": "markdown",
      "metadata": {
        "id": "view-in-github",
        "colab_type": "text"
      },
      "source": [
        "<a href=\"https://colab.research.google.com/github/GabrielRamirezs/Metodos1_KarenQuevedo_GabrielRamirez/blob/main/Tarea4.ipynb\" target=\"_parent\"><img src=\"https://colab.research.google.com/assets/colab-badge.svg\" alt=\"Open In Colab\"/></a>"
      ]
    },
    {
      "cell_type": "code",
      "execution_count": 1,
      "metadata": {
        "id": "XroQ-n1Luw-y"
      },
      "outputs": [],
      "source": [
        "import numpy as np\n",
        "import matplotlib.pyplot as plt"
      ]
    },
    {
      "cell_type": "code",
      "execution_count": 2,
      "metadata": {
        "id": "bj-YzuDmu2dL",
        "outputId": "766b5862-2904-4fd0-bc7b-0503af894556",
        "colab": {
          "base_uri": "https://localhost:8080/"
        }
      },
      "outputs": [
        {
          "output_type": "stream",
          "name": "stdout",
          "text": [
            "Solución después de 18 iteraciones:\n",
            "[1. 1. 1.]\n"
          ]
        }
      ],
      "source": [
        "#2\n",
        "A = np.array([[3, -1, -1], [-1, 3, 1], [2, 1, 4]])\n",
        "b = np.array([1, 3, 7])\n",
        "\n",
        "x = np.zeros(len(b))\n",
        "max_iterations = 25\n",
        "tolerance = 1e-10\n",
        "\n",
        "for k in range(max_iterations):\n",
        "    x_new = np.copy(x)\n",
        "\n",
        "    for i in range(len(b)):\n",
        "        sum1 = np.dot(A[i, :i], x_new[:i])\n",
        "        sum2 = np.dot(A[i, i + 1:], x[i + 1:])\n",
        "        x_new[i] = (b[i] - sum1 - sum2) / A[i, i]\n",
        "\n",
        "    if np.allclose(x, x_new, atol=tolerance, rtol=0.):\n",
        "        break\n",
        "\n",
        "    x = x_new\n",
        "\n",
        "print(f'Solución después de {k+1} iteraciones:')\n",
        "print(x)"
      ]
    },
    {
      "cell_type": "code",
      "execution_count": 3,
      "metadata": {
        "id": "8gBqQ8Juu5NJ",
        "outputId": "c4144feb-df10-45e4-dd7c-6cfcbfec5b45",
        "colab": {
          "base_uri": "https://localhost:8080/"
        }
      },
      "outputs": [
        {
          "output_type": "stream",
          "name": "stdout",
          "text": [
            "Jacobi convergió en 35 iteraciones.\n",
            "Solución con Jacobi: [1. 1. 1.]\n",
            "Gauss-Seidel convergió en 26 iteraciones.\n",
            "Solución con Gauss-Seidel: [1. 1. 1.]\n"
          ]
        }
      ],
      "source": [
        "#3\n",
        "class SolucionSistemaLineal:\n",
        "    def __init__(self, A, b):\n",
        "        self.A = A\n",
        "        self.b = b\n",
        "\n",
        "    def jacobi(self, x0, itmax=1000, tolerancia=1e-16):\n",
        "        x = x0.copy()\n",
        "        n = len(self.b)\n",
        "\n",
        "        for it in range(itmax):\n",
        "            x_new = np.copy(x)\n",
        "\n",
        "            for i in range(n):\n",
        "                suma = 0.0\n",
        "                for j in range(n):\n",
        "                    if i != j:\n",
        "                        suma += self.A[i, j] * x[j]\n",
        "                x_new[i] = (self.b[i] - suma) / self.A[i, i]\n",
        "\n",
        "            if np.linalg.norm(np.dot(self.A, x_new) - self.b) < tolerancia:\n",
        "                break\n",
        "            x = np.copy(x_new)\n",
        "\n",
        "        print(f'Jacobi convergió en {it+1} iteraciones.')\n",
        "        return x\n",
        "\n",
        "    def gauss_seidel(self, x0, itmax=100, tolerancia=1e-16):\n",
        "        x = x0.copy()\n",
        "        n = len(self.b)\n",
        "\n",
        "        for it in range(itmax):\n",
        "            x_new = np.copy(x)\n",
        "\n",
        "            for i in range(n):\n",
        "                suma = 0.0\n",
        "                for j in range(n):\n",
        "                    if i != j:\n",
        "                        suma += self.A[i, j] * x_new[j]\n",
        "                x_new[i] = (self.b[i] - suma) / self.A[i, i]\n",
        "\n",
        "            if np.linalg.norm(np.dot(self.A, x_new) - self.b) < tolerancia:\n",
        "                break\n",
        "            x = np.copy(x_new)\n",
        "\n",
        "        print(f'Gauss-Seidel convergió en {it+1} iteraciones.')\n",
        "        return x\n",
        "\n",
        "A = np.array([[3,-1,-1],[-1,3,1],[2,1,4]])\n",
        "b = np.array([1.,3.,7.])\n",
        "\n",
        "x0 = np.array([0., 0., 0.])\n",
        "\n",
        "solver = SolucionSistemaLineal(A, b)\n",
        "\n",
        "x_jacobi = solver.jacobi(x0)\n",
        "print('Solución con Jacobi:', x_jacobi)\n",
        "x_gauss_seidel = solver.gauss_seidel(x0)\n",
        "print('Solución con Gauss-Seidel:', x_gauss_seidel)\n"
      ]
    },
    {
      "cell_type": "code",
      "execution_count": 4,
      "metadata": {
        "id": "mND1sQkIu6WN",
        "outputId": "24285269-9893-4093-d7e9-0d2be7e34a66",
        "colab": {
          "base_uri": "https://localhost:8080/"
        }
      },
      "outputs": [
        {
          "output_type": "stream",
          "name": "stdout",
          "text": [
            "Resultado de AB:\n",
            "[[ 4. -2.  1.]\n",
            " [20. -7. 12.]\n",
            " [-8. 13. 21.]]\n"
          ]
        }
      ],
      "source": [
        "#4\n",
        "import numpy as np\n",
        "\n",
        "A = np.array([[1, 0, 0],\n",
        "              [5, 1, 0],\n",
        "              [-2, 3, 1]])\n",
        "\n",
        "B = np.array([[4, -2, 1],\n",
        "              [0, 3, 7],\n",
        "              [0, 0, 2]])\n",
        "\n",
        "def multiplicar_matrices(A, B):\n",
        "    filas_A, columnas_A = A.shape\n",
        "    filas_B, columnas_B = B.shape\n",
        "\n",
        "    if columnas_A != filas_B:\n",
        "        raise ValueError(\"Las matrices no se pueden multiplicar\")\n",
        "\n",
        "    resultado = np.zeros((filas_A, columnas_B))\n",
        "\n",
        "    for i in range(filas_A):\n",
        "        for j in range(columnas_B):\n",
        "            for k in range(columnas_A):\n",
        "                resultado[i, j] += A[i, k] * B[k, j]\n",
        "\n",
        "    return resultado\n",
        "\n",
        "AB = multiplicar_matrices(A, B)\n",
        "print(\"Resultado de AB:\")\n",
        "print(AB)\n"
      ]
    },
    {
      "cell_type": "code",
      "execution_count": 5,
      "metadata": {
        "colab": {
          "base_uri": "https://localhost:8080/"
        },
        "id": "BRUnpX71u9AS",
        "outputId": "04d76cc0-c31e-42e5-90da-0ad866a41db4"
      },
      "outputs": [
        {
          "output_type": "execute_result",
          "data": {
            "text/plain": [
              "(array([[ 1.,  0.,  0.],\n",
              "        [ 5.,  1.,  0.],\n",
              "        [-2.,  3.,  1.]]),\n",
              " array([[ 4., -2.,  1.],\n",
              "        [ 0.,  3.,  7.],\n",
              "        [ 0.,  0., -2.]]))"
            ]
          },
          "metadata": {},
          "execution_count": 5
        }
      ],
      "source": [
        "#8\n",
        "def lu_decomposition(A):\n",
        "    n = len(A)\n",
        "    L = np.zeros((n, n))\n",
        "    U = np.zeros((n, n))\n",
        "\n",
        "    for i in range(n):\n",
        "        L[i, i] = 1\n",
        "\n",
        "    for j in range(n):\n",
        "        for i in range(j+1):\n",
        "            U[i, j] = A[i, j] - sum(L[i, k] * U[k, j] for k in range(i))\n",
        "\n",
        "        for i in range(j+1, n):\n",
        "            L[i, j] = (A[i, j] - sum(L[i, k] * U[k, j] for k in range(j))) / U[j, j]\n",
        "\n",
        "    return L, U\n",
        "\n",
        "A = np.array([[4, -2, 1],\n",
        "              [20, -7, 12],\n",
        "              [-8, 13, 17]])\n",
        "\n",
        "L_manual, U_manual = lu_decomposition(A)\n",
        "L_manual, U_manual\n"
      ]
    },
    {
      "cell_type": "code",
      "source": [
        "#10\n",
        "def max_off_diagonal(A):\n",
        "    n = len(A)\n",
        "    max_val = 0\n",
        "    p = 0\n",
        "    q = 1\n",
        "    for i in range(n):\n",
        "        for j in range(i+1, n):\n",
        "            if abs(A[i][j]) > max_val:\n",
        "                max_val = abs(A[i][j])\n",
        "                p = i\n",
        "                q = j\n",
        "    return p, q, max_val\n",
        "\n",
        "def jacobi_rotate(A, p, q):\n",
        "    if A[p][p] == A[q][q]:\n",
        "        theta = 3.141592653589793 / 4\n",
        "    else:\n",
        "        theta = 0.5 * (2 * A[p][q] / (A[p][p] - A[q][q]))\n",
        "\n",
        "    cos_theta = 1 / (1 + theta**2)**0.5\n",
        "    sin_theta = theta / (1 + theta**2)**0.5\n",
        "\n",
        "\n",
        "    n = len(A)\n",
        "    A_new = [[A[i][j] for j in range(n)] for i in range(n)]\n",
        "\n",
        "    for i in range(n):\n",
        "        for j in range(n):\n",
        "            if i == p or i == q or j == p or j == q:\n",
        "\n",
        "                if i == p and j == p:\n",
        "                    A_new[p][p] = cos_theta**2 * A[p][p] + 2 * cos_theta * sin_theta * A[p][q] + sin_theta**2 * A[q][q]\n",
        "                elif i == q and j == q:\n",
        "                    A_new[q][q] = sin_theta**2 * A[p][p] - 2 * cos_theta * sin_theta * A[p][q] + cos_theta**2 * A[q][q]\n",
        "                elif (i == p and j == q) or (i == q and j == p):\n",
        "                    A_new[p][q] = 0\n",
        "                    A_new[q][p] = 0\n",
        "                elif i == p:\n",
        "                    A_new[i][j] = cos_theta * A[p][j] + sin_theta * A[q][j]\n",
        "                elif i == q:\n",
        "                    A_new[i][j] = -sin_theta * A[p][j] + cos_theta * A[q][j]\n",
        "                elif j == p:\n",
        "                    A_new[i][j] = cos_theta * A[i][p] + sin_theta * A[i][q]\n",
        "                elif j == q:\n",
        "                    A_new[i][j] = -sin_theta * A[i][p] + cos_theta * A[i][q]\n",
        "    return A_new\n",
        "\n",
        "def jacobi_eigenvalues(A, tol=1e-9, max_iterations=100):\n",
        "    n = len(A)\n",
        "    A_current = [row[:] for row in A]\n",
        "    iterations = 0\n",
        "    while iterations < max_iterations:\n",
        "        p, q, max_val = max_off_diagonal(A_current)\n",
        "        if max_val < tol:\n",
        "            break\n",
        "        A_current = jacobi_rotate(A_current, p, q)\n",
        "        iterations += 1\n",
        "\n",
        "    eigenvalues = [A_current[i][i] for i in range(n)]\n",
        "    return eigenvalues\n",
        "\n",
        "\n",
        "A = [[4, 1, 1],\n",
        "     [1, 3, 2],\n",
        "     [1, 2, 5]]\n",
        "\n",
        "eigenvalues_jacobi = jacobi_eigenvalues(A)\n",
        "print(\"Valores propios usando el método de Jacobi:\", eigenvalues_jacobi)\n",
        "\n",
        "\n",
        "import numpy as np\n",
        "eigenvalues_numpy, _ = np.linalg.eig(A)\n",
        "print(\"Valores propios usando np.linalg.eig:\", eigenvalues_numpy)\n"
      ],
      "metadata": {
        "id": "EE0PQxKmI89v",
        "outputId": "835bdeeb-c3be-4802-dc2d-c6ecda9d40eb",
        "colab": {
          "base_uri": "https://localhost:8080/"
        }
      },
      "execution_count": 14,
      "outputs": [
        {
          "output_type": "stream",
          "name": "stdout",
          "text": [
            "Valores propios usando el método de Jacobi: [3.3333333333333335, 1.9999999999999996, 6.666666666666664]\n",
            "Valores propios usando np.linalg.eig: [6.89510652 3.39729507 1.70759841]\n"
          ]
        }
      ]
    },
    {
      "cell_type": "code",
      "execution_count": 16,
      "metadata": {
        "colab": {
          "base_uri": "https://localhost:8080/"
        },
        "id": "VWO3AIBXvA-y",
        "outputId": "f94871e7-262b-4831-8132-d6b58da79a3e"
      },
      "outputs": [
        {
          "output_type": "stream",
          "name": "stdout",
          "text": [
            "Solución sistema 1: [1.77245385 1.77245385]\n",
            "Iteraciones sistema 1: 6\n",
            "Solución sistema 2: [ 0.49780395 -0.21698588 -0.52930208]\n",
            "Iteraciones sistema 2: 4\n"
          ]
        }
      ],
      "source": [
        "#12\n",
        "\n",
        "\n",
        "def f1(x1, x2):\n",
        "    return np.log(x1**2 + x2**2) - np.sin(x1 * x2) - np.log(2) - np.log(np.pi)\n",
        "\n",
        "def f2(x1, x2):\n",
        "    return np.exp(x1 - x2) + np.cos(x1 * x2)\n",
        "\n",
        "\n",
        "def jacobian(x1, x2):\n",
        "    df1_dx1 = (2 * x1 / (x1**2 + x2**2)) - (x2 * np.cos(x1 * x2))\n",
        "    df1_dx2 = (2 * x2 / (x1**2 + x2**2)) - (x1 * np.cos(x1 * x2))\n",
        "    df2_dx1 = np.exp(x1 - x2) - x2 * np.sin(x1 * x2)\n",
        "    df2_dx2 = -np.exp(x1 - x2) - x1 * np.sin(x1 * x2)\n",
        "    return np.array([[df1_dx1, df1_dx2],\n",
        "                     [df2_dx1, df2_dx2]])\n",
        "\n",
        "def newton_raphson(x0, tol=1e-10, max_iter=100):\n",
        "    x = np.array(x0, dtype=float)\n",
        "    for i in range(max_iter):\n",
        "        f_val = np.array([f1(x[0], x[1]), f2(x[0], x[1])])\n",
        "        J = jacobian(x[0], x[1])\n",
        "        delta_x = np.linalg.solve(J, -f_val)\n",
        "        x = x + delta_x\n",
        "        if np.linalg.norm(delta_x) < tol:\n",
        "            return x, i+1\n",
        "    raise ValueError(\"Newton-Raphson did not converge\")\n",
        "\n",
        "\n",
        "x0 = [2, 2]\n",
        "\n",
        "\n",
        "solution, iterations = newton_raphson(x0)\n",
        "\n",
        "solution, iterations\n",
        "import numpy as np\n",
        "\n",
        "\n",
        "def F1(x):\n",
        "    f1 = np.log(x[0]**2 + x[1]**2) - np.sin(x[0] * x[1]) - np.log(2) - np.log(np.pi)\n",
        "    f2 = np.exp(x[0] - x[1]) + np.cos(x[0] * x[1])\n",
        "    return np.array([f1, f2])\n",
        "\n",
        "\n",
        "def J1(x):\n",
        "    j11 = (2 * x[0]) / (x[0]**2 + x[1]**2) - x[1] * np.cos(x[0] * x[1])\n",
        "    j12 = (2 * x[1]) / (x[0]**2 + x[1]**2) - x[0] * np.cos(x[0] * x[1])\n",
        "    j21 = np.exp(x[0] - x[1]) - x[1] * np.sin(x[0] * x[1])\n",
        "    j22 = -np.exp(x[0] - x[1]) - x[0] * np.sin(x[0] * x[1])\n",
        "    return np.array([[j11, j12], [j21, j22]])\n",
        "\n",
        "\n",
        "def F2(x):\n",
        "    f1 = 6*x[0] - 2 * np.cos(x[1] * x[2]) - 1\n",
        "    f2 = 9*x[1] + np.sqrt(x[0]**2) + np.sin(x[2]) + 1.06 + 0.9\n",
        "    f3 = 60*x[2] + 3 * np.exp(-x[0] * x[1]) + 10 * np.pi - 3\n",
        "    return np.array([f1, f2, f3])\n",
        "\n",
        "\n",
        "def J2(x):\n",
        "    j11 = 6\n",
        "    j12 = 2 * x[2] * np.sin(x[1] * x[2])\n",
        "    j13 = 2 * x[1] * np.sin(x[1] * x[2])\n",
        "    j21 = x[0] / np.sqrt(x[0]**2) if x[0] != 0 else 0\n",
        "    j22 = 9\n",
        "    j23 = np.cos(x[2])\n",
        "    j31 = -3 * x[1] * np.exp(-x[0] * x[1])\n",
        "    j32 = -3 * x[0] * np.exp(-x[0] * x[1])\n",
        "    j33 = 60\n",
        "    return np.array([[j11, j12, j13], [j21, j22, j23], [j31, j32, j33]])\n",
        "\n",
        "\n",
        "def newton_raphson(F, J, x0, tol=1e-9, max_iter=100):\n",
        "    x = np.array(x0, dtype=float)\n",
        "    for i in range(max_iter):\n",
        "        Fx = F(x)\n",
        "        Jx = J(x)\n",
        "        delta_x = np.linalg.solve(Jx, -Fx)\n",
        "        x = x + delta_x\n",
        "        if np.linalg.norm(delta_x) < tol:\n",
        "            return x, i+1\n",
        "    raise ValueError(\"El método de Newton-Raphson no convergió\")\n",
        "\n",
        "x0_1 = [2, 2]\n",
        "solucion1, iteraciones1 = newton_raphson(F1, J1, x0_1)\n",
        "print(f\"Solución sistema 1: {solucion1}\")\n",
        "print(f\"Iteraciones sistema 1: {iteraciones1}\")\n",
        "\n",
        "\n",
        "x0_2 = [0, 0, 0]\n",
        "solucion2, iteraciones2 = newton_raphson(F2, J2, x0_2)\n",
        "print(f\"Solución sistema 2: {solucion2}\")\n",
        "print(f\"Iteraciones sistema 2: {iteraciones2}\")\n"
      ]
    },
    {
      "cell_type": "code",
      "execution_count": 9,
      "metadata": {
        "colab": {
          "base_uri": "https://localhost:8080/"
        },
        "id": "Cl9JADpZvCqN",
        "outputId": "9f8ee480-b04c-49d7-a0fe-a1917b1cc3c0"
      },
      "outputs": [
        {
          "output_type": "stream",
          "name": "stdout",
          "text": [
            "Jacobiano de cuarto orden:\n",
            "[[ 1.          1.          0.75      ]\n",
            " [ 0.87758256 -0.12370198 -0.12370198]]\n",
            "Jacobiano de segundo orden:\n",
            "[[ 1.          1.          0.7501    ]\n",
            " [ 0.87756794 -0.12370146 -0.12370146]]\n",
            "Diferencias entre las aproximaciones de segundo y cuarto orden:\n",
            "[[3.66373598e-15 3.77475828e-15 1.00000000e-04]\n",
            " [1.46260104e-05 5.15421700e-07 5.15421700e-07]]\n"
          ]
        }
      ],
      "source": [
        "#13\n",
        "import numpy as np\n",
        "\n",
        "def jacobiano_cuarto_orden(f, x, h=0.01):\n",
        "    n = len(x)\n",
        "    m = len(f(x))\n",
        "    J = np.zeros((m, n))\n",
        "\n",
        "\n",
        "    for i in range(n):\n",
        "        x_h = np.copy(x)\n",
        "        f2h_plus = np.zeros(m)\n",
        "        f1h_plus = np.zeros(m)\n",
        "        f1h_minus = np.zeros(m)\n",
        "        f2h_minus = np.zeros(m)\n",
        "\n",
        "\n",
        "        x_h[i] = x[i] + 2*h\n",
        "        f2h_plus = f(x_h)\n",
        "\n",
        "\n",
        "        x_h[i] = x[i] + h\n",
        "        f1h_plus = f(x_h)\n",
        "\n",
        "\n",
        "        x_h[i] = x[i] - h\n",
        "        f1h_minus = f(x_h)\n",
        "\n",
        "\n",
        "        x_h[i] = x[i] - 2*h\n",
        "        f2h_minus = f(x_h)\n",
        "\n",
        "\n",
        "        J[:, i] = (-f2h_plus + 8*f1h_plus - 8*f1h_minus + f2h_minus) / (12*h)\n",
        "\n",
        "    return J\n",
        "\n",
        "\n",
        "def f(x):\n",
        "    return np.array([x[0]**2 + x[1] + x[2]**3, np.sin(x[0]) + np.cos(x[1]*x[2])])\n",
        "\n",
        "\n",
        "x = np.array([0.5, 0.5, 0.5])\n",
        "h = 0.01\n",
        "\n",
        "J_cuarto = jacobiano_cuarto_orden(f, x, h)\n",
        "print(\"Jacobiano de cuarto orden:\")\n",
        "print(J_cuarto)\n",
        "\n",
        "\n",
        "def jacobiano_segundo_orden(f, x, h=0.01):\n",
        "    n = len(x)\n",
        "    m = len(f(x))\n",
        "    J = np.zeros((m, n))\n",
        "\n",
        "    for i in range(n):\n",
        "        x_h = np.copy(x)\n",
        "\n",
        "\n",
        "        x_h[i] = x[i] + h\n",
        "        f_plus = f(x_h)\n",
        "\n",
        "        x_h[i] = x[i] - h\n",
        "        f_minus = f(x_h)\n",
        "\n",
        "\n",
        "        J[:, i] = (f_plus - f_minus) / (2*h)\n",
        "\n",
        "    return J\n",
        "\n",
        "\n",
        "J_segundo = jacobiano_segundo_orden(f, x, h)\n",
        "print(\"Jacobiano de segundo orden:\")\n",
        "print(J_segundo)\n",
        "\n",
        "\n",
        "errores = np.abs(J_cuarto - J_segundo)\n",
        "print(\"Diferencias entre las aproximaciones de segundo y cuarto orden:\")\n",
        "print(errores)\n"
      ]
    },
    {
      "cell_type": "code",
      "execution_count": 10,
      "metadata": {
        "colab": {
          "base_uri": "https://localhost:8080/"
        },
        "id": "Siz1cYF0vDUG",
        "outputId": "6bb6ab46-1756-41b2-bdd9-ff61cc7c6524"
      },
      "outputs": [
        {
          "output_type": "execute_result",
          "data": {
            "text/plain": [
              "(Matrix([\n",
              " [0, -1, 0],\n",
              " [1,  0, 0],\n",
              " [0,  0, 0]]),\n",
              " Matrix([\n",
              " [0, 0,  0],\n",
              " [0, 0, -1],\n",
              " [0, 1,  0]]),\n",
              " Matrix([\n",
              " [ 0, 0, 1],\n",
              " [ 0, 0, 0],\n",
              " [-1, 0, 0]]))"
            ]
          },
          "metadata": {},
          "execution_count": 10
        }
      ],
      "source": [
        "#14\n",
        "import sympy as sp\n",
        "\n",
        "\n",
        "Jx = sp.Matrix([[0, 0, 0],\n",
        "                [0, 0, -1],\n",
        "                [0, 1, 0]])\n",
        "\n",
        "Jy = sp.Matrix([[0, 0, 1],\n",
        "                [0, 0, 0],\n",
        "                [-1, 0, 0]])\n",
        "\n",
        "Jz = sp.Matrix([[0, -1, 0],\n",
        "                [1, 0, 0],\n",
        "                [0, 0, 0]])\n",
        "\n",
        "\n",
        "def commutator(A, B):\n",
        "    return A * B - B * A\n",
        "\n",
        "\n",
        "comm_Jx_Jy = commutator(Jx, Jy)\n",
        "comm_Jy_Jz = commutator(Jy, Jz)\n",
        "comm_Jz_Jx = commutator(Jz, Jx)\n",
        "\n",
        "comm_Jx_Jy, comm_Jy_Jz, comm_Jz_Jx\n"
      ]
    }
  ],
  "metadata": {
    "colab": {
      "provenance": [],
      "include_colab_link": true
    },
    "kernelspec": {
      "display_name": "Python 3",
      "name": "python3"
    },
    "language_info": {
      "name": "python"
    }
  },
  "nbformat": 4,
  "nbformat_minor": 0
}