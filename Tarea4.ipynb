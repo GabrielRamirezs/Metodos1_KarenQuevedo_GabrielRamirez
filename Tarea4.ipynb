{
  "nbformat": 4,
  "nbformat_minor": 0,
  "metadata": {
    "colab": {
      "provenance": [],
      "authorship_tag": "ABX9TyNjEf5SREo8A+W11Xkrka8m",
      "include_colab_link": true
    },
    "kernelspec": {
      "name": "python3",
      "display_name": "Python 3"
    },
    "language_info": {
      "name": "python"
    }
  },
  "cells": [
    {
      "cell_type": "markdown",
      "metadata": {
        "id": "view-in-github",
        "colab_type": "text"
      },
      "source": [
        "<a href=\"https://colab.research.google.com/github/GabrielRamirezs/Metodos1_KarenQuevedo_GabrielRamirez/blob/main/Tarea4.ipynb\" target=\"_parent\"><img src=\"https://colab.research.google.com/assets/colab-badge.svg\" alt=\"Open In Colab\"/></a>"
      ]
    },
    {
      "cell_type": "code",
      "execution_count": 1,
      "metadata": {
        "id": "XroQ-n1Luw-y"
      },
      "outputs": [],
      "source": [
        "import numpy as np\n",
        "import matplotlib.pyplot as plt"
      ]
    },
    {
      "cell_type": "code",
      "source": [
        "#1"
      ],
      "metadata": {
        "id": "bj-YzuDmu2dL"
      },
      "execution_count": 2,
      "outputs": []
    },
    {
      "cell_type": "code",
      "source": [
        "#2"
      ],
      "metadata": {
        "id": "8gBqQ8Juu5NJ"
      },
      "execution_count": 3,
      "outputs": []
    },
    {
      "cell_type": "code",
      "source": [
        "#3"
      ],
      "metadata": {
        "id": "mND1sQkIu6WN"
      },
      "execution_count": 4,
      "outputs": []
    },
    {
      "cell_type": "code",
      "source": [
        "#4"
      ],
      "metadata": {
        "id": "Rtt49o4nu66a"
      },
      "execution_count": 5,
      "outputs": []
    },
    {
      "cell_type": "code",
      "source": [
        "#5"
      ],
      "metadata": {
        "id": "g8ojfIp2u7tM"
      },
      "execution_count": 6,
      "outputs": []
    },
    {
      "cell_type": "code",
      "source": [
        "#6"
      ],
      "metadata": {
        "id": "qGw1XGp8u8Yb"
      },
      "execution_count": 7,
      "outputs": []
    },
    {
      "cell_type": "code",
      "source": [
        "#8\n",
        "def lu_decomposition(A):\n",
        "    n = len(A)\n",
        "    L = np.zeros((n, n))\n",
        "    U = np.zeros((n, n))\n",
        "\n",
        "    for i in range(n):\n",
        "        L[i, i] = 1\n",
        "\n",
        "    for j in range(n):\n",
        "        for i in range(j+1):\n",
        "            U[i, j] = A[i, j] - sum(L[i, k] * U[k, j] for k in range(i))\n",
        "\n",
        "        for i in range(j+1, n):\n",
        "            L[i, j] = (A[i, j] - sum(L[i, k] * U[k, j] for k in range(j))) / U[j, j]\n",
        "\n",
        "    return L, U\n",
        "\n",
        "A = np.array([[4, -2, 1],\n",
        "              [20, -7, 12],\n",
        "              [-8, 13, 17]])\n",
        "\n",
        "L_manual, U_manual = lu_decomposition(A)\n",
        "L_manual, U_manual\n"
      ],
      "metadata": {
        "id": "BRUnpX71u9AS",
        "colab": {
          "base_uri": "https://localhost:8080/"
        },
        "outputId": "85627a6f-9fc3-4411-da18-3740d9679aea"
      },
      "execution_count": 8,
      "outputs": [
        {
          "output_type": "execute_result",
          "data": {
            "text/plain": [
              "(array([[ 1.,  0.,  0.],\n",
              "        [ 5.,  1.,  0.],\n",
              "        [-2.,  3.,  1.]]),\n",
              " array([[ 4., -2.,  1.],\n",
              "        [ 0.,  3.,  7.],\n",
              "        [ 0.,  0., -2.]]))"
            ]
          },
          "metadata": {},
          "execution_count": 8
        }
      ]
    },
    {
      "cell_type": "code",
      "source": [
        "#10\n",
        "\n",
        "def jacobi_method(A, tol=1e-10, max_iterations=100):\n",
        "    def max_offdiag_symmetric(A):\n",
        "        n = len(A)\n",
        "        max_val = 0.0\n",
        "        k = 0\n",
        "        l = 0\n",
        "        for i in range(n):\n",
        "            for j in range(i+1, n):\n",
        "                if abs(A[i, j]) > max_val:\n",
        "                    max_val = abs(A[i, j])\n",
        "                    k = i\n",
        "                    l = j\n",
        "        return k, l, max_val\n",
        "\n",
        "    n = len(A)\n",
        "    V = np.eye(n)\n",
        "    iterations = 0\n",
        "    while iterations < max_iterations:\n",
        "        k, l, max_val = max_offdiag_symmetric(A)\n",
        "\n",
        "        if max_val < tol:\n",
        "            break\n",
        "\n",
        "        if A[k, k] == A[l, l]:\n",
        "            theta = np.pi / 4\n",
        "        else:\n",
        "            theta = 0.5 * np.arctan(2 * A[k, l] / (A[k, k] - A[l, l]))\n",
        "\n",
        "        cos_t = np.cos(theta)\n",
        "        sin_t = np.sin(theta)\n",
        "\n",
        "        R = np.eye(n)\n",
        "        R[k, k] = cos_t\n",
        "        R[l, l] = cos_t\n",
        "        R[k, l] = sin_t\n",
        "        R[l, k] = -sin_t\n",
        "\n",
        "        A = R.T @ A @ R\n",
        "        V = V @ R\n",
        "        iterations += 1\n",
        "\n",
        "    eigenvalues = np.diag(A)\n",
        "    eigenvectors = V\n",
        "    return eigenvalues, eigenvectors\n",
        "\n",
        "\n",
        "A = np.array([[4, 1, 1],\n",
        "              [1, 3, 2],\n",
        "              [1, 2, 5]])\n",
        "\n",
        "eigenvalues_jacobi, eigenvectors_jacobi = jacobi_method(A)\n",
        "\n",
        "eigenvalues_numpy, eigenvectors_numpy = np.linalg.eig(A)\n",
        "\n",
        "eigenvalues_jacobi, eigenvectors_jacobi, eigenvalues_numpy, eigenvectors_numpy\n"
      ],
      "metadata": {
        "id": "o_BmuCWhu-uk",
        "colab": {
          "base_uri": "https://localhost:8080/"
        },
        "outputId": "753ee9a1-9ea9-4764-84c4-cd69f98484b7"
      },
      "execution_count": 9,
      "outputs": [
        {
          "output_type": "execute_result",
          "data": {
            "text/plain": [
              "(array([3.39688663, 2.57744745, 6.02566592]),\n",
              " array([[ 0.89796861,  0.03883191,  0.43834286],\n",
              "        [-0.09286685,  0.99038792,  0.10250619],\n",
              "        [-0.43014896, -0.13275486,  0.89294346]]),\n",
              " array([6.89510652, 3.39729507, 1.70759841]),\n",
              " array([[ 0.43170413,  0.88573564,  0.17059871],\n",
              "        [ 0.49725362, -0.07589338, -0.86427949],\n",
              "        [ 0.75257583, -0.45794385,  0.47319874]]))"
            ]
          },
          "metadata": {},
          "execution_count": 9
        }
      ]
    },
    {
      "cell_type": "code",
      "source": [
        "#12\n",
        "import numpy as np\n",
        "\n",
        "def f1(x1, x2):\n",
        "    return np.log(x1**2 + x2**2) - np.sin(x1 * x2) - np.log(2) - np.log(np.pi)\n",
        "\n",
        "def f2(x1, x2):\n",
        "    return np.exp(x1 - x2) + np.cos(x1 * x2)\n",
        "\n",
        "\n",
        "def jacobian(x1, x2):\n",
        "    df1_dx1 = (2 * x1 / (x1**2 + x2**2)) - (x2 * np.cos(x1 * x2))\n",
        "    df1_dx2 = (2 * x2 / (x1**2 + x2**2)) - (x1 * np.cos(x1 * x2))\n",
        "    df2_dx1 = np.exp(x1 - x2) - x2 * np.sin(x1 * x2)\n",
        "    df2_dx2 = -np.exp(x1 - x2) - x1 * np.sin(x1 * x2)\n",
        "    return np.array([[df1_dx1, df1_dx2],\n",
        "                     [df2_dx1, df2_dx2]])\n",
        "\n",
        "def newton_raphson(x0, tol=1e-10, max_iter=100):\n",
        "    x = np.array(x0, dtype=float)\n",
        "    for i in range(max_iter):\n",
        "        f_val = np.array([f1(x[0], x[1]), f2(x[0], x[1])])\n",
        "        J = jacobian(x[0], x[1])\n",
        "        delta_x = np.linalg.solve(J, -f_val)\n",
        "        x = x + delta_x\n",
        "        if np.linalg.norm(delta_x) < tol:\n",
        "            return x, i+1\n",
        "    raise ValueError(\"Newton-Raphson did not converge\")\n",
        "\n",
        "\n",
        "x0 = [2, 2]\n",
        "\n",
        "\n",
        "solution, iterations = newton_raphson(x0)\n",
        "\n",
        "solution, iterations\n"
      ],
      "metadata": {
        "id": "VWO3AIBXvA-y",
        "colab": {
          "base_uri": "https://localhost:8080/"
        },
        "outputId": "c3e452de-2fc9-4a92-e459-a5e7b60c0409"
      },
      "execution_count": 10,
      "outputs": [
        {
          "output_type": "execute_result",
          "data": {
            "text/plain": [
              "(array([1.77245385, 1.77245385]), 7)"
            ]
          },
          "metadata": {},
          "execution_count": 10
        }
      ]
    },
    {
      "cell_type": "code",
      "source": [
        "#12\n",
        "\n",
        "def F1(x):\n",
        "    x1, x2 = x\n",
        "    f1 = np.log(x1**2 + x2**2) - np.sin(x1 * x2) - np.log(2 * np.pi)\n",
        "    f2 = np.exp(x1 - x2) + np.cos(x1 * x2)\n",
        "    return np.array([f1, f2])\n",
        "\n",
        "def J1(x):\n",
        "    x1, x2 = x\n",
        "    df1_dx1 = 2 * x1 / (x1**2 + x2**2) - x2 * np.cos(x1 * x2)\n",
        "    df1_dx2 = 2 * x2 / (x1**2 + x2**2) - x1 * np.cos(x1 * x2)\n",
        "    df2_dx1 = np.exp(x1 - x2) - x2 * np.sin(x1 * x2)\n",
        "    df2_dx2 = -np.exp(x1 - x2) - x1 * np.sin(x1 * x2)\n",
        "    return np.array([[df1_dx1, df1_dx2], [df2_dx1, df2_dx2]])\n",
        "\n",
        "def F2(x):\n",
        "    x1, x2, x3 = x\n",
        "    f1 = 6 * x1 - 2 * np.cos(x2 * x3) - 1\n",
        "    f2 = 9 * x2 + np.sqrt(x1**2 + x2**2) + np.sin(x3) + 1.96\n",
        "    f3 = 60 * x3 + 3 * np.exp(-x1 * x2) + 10 * np.pi - 3\n",
        "    return np.array([f1, f2, f3])\n",
        "\n",
        "def J2(x):\n",
        "    x1, x2, x3 = x\n",
        "    df1_dx1 = 6\n",
        "    df1_dx2 = x3 * 2 * np.sin(x2 * x3)\n",
        "    df1_dx3 = x2 * 2 * np.sin(x2 * x3)\n",
        "    df2_dx1 = x1 / np.sqrt(x1**2 + x2**2)\n",
        "    df2_dx2 = 9 + x2 / np.sqrt(x1**2 + x2**2)\n",
        "    df2_dx3 = np.cos(x3)\n",
        "    df3_dx1 = -3 * x2 * np.exp(-x1 * x2)\n",
        "    df3_dx2 = -3 * x1 * np.exp(-x1 * x2)\n",
        "    df3_dx3 = 60\n",
        "    return np.array([[df1_dx1, df1_dx2, df1_dx3], [df2_dx1, df2_dx2, df2_dx3], [df3_dx1, df3_dx2, df3_dx3]])\n",
        "\n",
        "\n",
        "def newton_raphson_no_scipy(F, J, x0, tol=1e-6, max_iter=100):\n",
        "    x = np.array(x0, dtype=float)\n",
        "    for i in range(max_iter):\n",
        "        fx = F(x)\n",
        "        if np.any(np.isnan(fx)) or np.any(np.isinf(fx)):\n",
        "            print(f\"No se puede continuar: el sistema generó valores indefinidos (NaN o Inf) en la iteración {i+1} con x = {x}\")\n",
        "            return None, i + 1\n",
        "        if np.linalg.norm(fx, ord=2) < tol:\n",
        "            return x, i + 1\n",
        "        Jx = J(x)\n",
        "\n",
        "        delta_x = np.linalg.solve(Jx, fx)\n",
        "        x = x - delta_x\n",
        "    return x, max_iter\n",
        "\n",
        "\n",
        "x0_1 = [2, 2]\n",
        "x0_2 = [0, 0, 0]\n",
        "sol_1, iter_1 = newton_raphson_no_scipy(F1, J1, x0_1)\n",
        "sol_2, iter_2 = newton_raphson_no_scipy(F2, J2, x0_2)\n",
        "\n",
        "print(f\"Solución sistema 1: {sol_1} en {iter_1} iteraciones\")\n",
        "print(f\"Solución sistema 2: {sol_2} en {iter_2} iteraciones\")\n",
        "\n"
      ],
      "metadata": {
        "colab": {
          "base_uri": "https://localhost:8080/"
        },
        "id": "-riEXTsbB636",
        "outputId": "cad00169-c9d1-4519-e084-0a81df758ae0"
      },
      "execution_count": 11,
      "outputs": [
        {
          "output_type": "stream",
          "name": "stdout",
          "text": [
            "No se puede continuar: el sistema generó valores indefinidos (NaN o Inf) en la iteración 2 con x = [nan nan nan]\n",
            "Solución sistema 1: [1.77245385 1.77245385] en 6 iteraciones\n",
            "Solución sistema 2: None en 2 iteraciones\n"
          ]
        },
        {
          "output_type": "stream",
          "name": "stderr",
          "text": [
            "<ipython-input-11-a2e11fe39f8e>:29: RuntimeWarning: invalid value encountered in scalar divide\n",
            "  df2_dx1 = x1 / np.sqrt(x1**2 + x2**2)\n",
            "<ipython-input-11-a2e11fe39f8e>:30: RuntimeWarning: invalid value encountered in scalar divide\n",
            "  df2_dx2 = 9 + x2 / np.sqrt(x1**2 + x2**2)\n"
          ]
        }
      ]
    },
    {
      "cell_type": "code",
      "source": [
        "#13\n",
        "import numpy as np\n",
        "\n",
        "def jacobiano_cuarto_orden(f, x, h=0.01):\n",
        "    n = len(x)\n",
        "    m = len(f(x))\n",
        "    J = np.zeros((m, n))\n",
        "\n",
        "\n",
        "    for i in range(n):\n",
        "        x_h = np.copy(x)\n",
        "        f2h_plus = np.zeros(m)\n",
        "        f1h_plus = np.zeros(m)\n",
        "        f1h_minus = np.zeros(m)\n",
        "        f2h_minus = np.zeros(m)\n",
        "\n",
        "\n",
        "        x_h[i] = x[i] + 2*h\n",
        "        f2h_plus = f(x_h)\n",
        "\n",
        "\n",
        "        x_h[i] = x[i] + h\n",
        "        f1h_plus = f(x_h)\n",
        "\n",
        "\n",
        "        x_h[i] = x[i] - h\n",
        "        f1h_minus = f(x_h)\n",
        "\n",
        "\n",
        "        x_h[i] = x[i] - 2*h\n",
        "        f2h_minus = f(x_h)\n",
        "\n",
        "\n",
        "        J[:, i] = (-f2h_plus + 8*f1h_plus - 8*f1h_minus + f2h_minus) / (12*h)\n",
        "\n",
        "    return J\n",
        "\n",
        "\n",
        "def f(x):\n",
        "    return np.array([x[0]**2 + x[1] + x[2]**3, np.sin(x[0]) + np.cos(x[1]*x[2])])\n",
        "\n",
        "\n",
        "x = np.array([0.5, 0.5, 0.5])\n",
        "h = 0.01\n",
        "\n",
        "J_cuarto = jacobiano_cuarto_orden(f, x, h)\n",
        "print(\"Jacobiano de cuarto orden:\")\n",
        "print(J_cuarto)\n",
        "\n",
        "\n",
        "def jacobiano_segundo_orden(f, x, h=0.01):\n",
        "    n = len(x)\n",
        "    m = len(f(x))\n",
        "    J = np.zeros((m, n))\n",
        "\n",
        "    for i in range(n):\n",
        "        x_h = np.copy(x)\n",
        "\n",
        "\n",
        "        x_h[i] = x[i] + h\n",
        "        f_plus = f(x_h)\n",
        "\n",
        "        x_h[i] = x[i] - h\n",
        "        f_minus = f(x_h)\n",
        "\n",
        "\n",
        "        J[:, i] = (f_plus - f_minus) / (2*h)\n",
        "\n",
        "    return J\n",
        "\n",
        "\n",
        "J_segundo = jacobiano_segundo_orden(f, x, h)\n",
        "print(\"Jacobiano de segundo orden:\")\n",
        "print(J_segundo)\n",
        "\n",
        "\n",
        "errores = np.abs(J_cuarto - J_segundo)\n",
        "print(\"Diferencias entre las aproximaciones de segundo y cuarto orden:\")\n",
        "print(errores)\n"
      ],
      "metadata": {
        "id": "Cl9JADpZvCqN",
        "colab": {
          "base_uri": "https://localhost:8080/"
        },
        "outputId": "f42cb305-8aa5-4b42-bed0-e0b83b90a1c4"
      },
      "execution_count": 12,
      "outputs": [
        {
          "output_type": "stream",
          "name": "stdout",
          "text": [
            "Jacobiano de cuarto orden:\n",
            "[[ 1.          1.          0.75      ]\n",
            " [ 0.87758256 -0.12370198 -0.12370198]]\n",
            "Jacobiano de segundo orden:\n",
            "[[ 1.          1.          0.7501    ]\n",
            " [ 0.87756794 -0.12370146 -0.12370146]]\n",
            "Diferencias entre las aproximaciones de segundo y cuarto orden:\n",
            "[[3.66373598e-15 3.77475828e-15 1.00000000e-04]\n",
            " [1.46260104e-05 5.15421700e-07 5.15421700e-07]]\n"
          ]
        }
      ]
    },
    {
      "cell_type": "code",
      "source": [
        "#14\n",
        "import sympy as sp\n",
        "\n",
        "\n",
        "Jx = sp.Matrix([[0, 0, 0],\n",
        "                [0, 0, -1],\n",
        "                [0, 1, 0]])\n",
        "\n",
        "Jy = sp.Matrix([[0, 0, 1],\n",
        "                [0, 0, 0],\n",
        "                [-1, 0, 0]])\n",
        "\n",
        "Jz = sp.Matrix([[0, -1, 0],\n",
        "                [1, 0, 0],\n",
        "                [0, 0, 0]])\n",
        "\n",
        "\n",
        "def commutator(A, B):\n",
        "    return A * B - B * A\n",
        "\n",
        "\n",
        "comm_Jx_Jy = commutator(Jx, Jy)\n",
        "comm_Jy_Jz = commutator(Jy, Jz)\n",
        "comm_Jz_Jx = commutator(Jz, Jx)\n",
        "\n",
        "comm_Jx_Jy, comm_Jy_Jz, comm_Jz_Jx\n"
      ],
      "metadata": {
        "id": "Siz1cYF0vDUG",
        "colab": {
          "base_uri": "https://localhost:8080/"
        },
        "outputId": "872300e2-b6d6-4b71-f9f8-8701b5c617bd"
      },
      "execution_count": 13,
      "outputs": [
        {
          "output_type": "execute_result",
          "data": {
            "text/plain": [
              "(Matrix([\n",
              " [0, -1, 0],\n",
              " [1,  0, 0],\n",
              " [0,  0, 0]]),\n",
              " Matrix([\n",
              " [0, 0,  0],\n",
              " [0, 0, -1],\n",
              " [0, 1,  0]]),\n",
              " Matrix([\n",
              " [ 0, 0, 1],\n",
              " [ 0, 0, 0],\n",
              " [-1, 0, 0]]))"
            ]
          },
          "metadata": {},
          "execution_count": 13
        }
      ]
    },
    {
      "cell_type": "code",
      "source": [],
      "metadata": {
        "id": "TGz5WSb6vEl0"
      },
      "execution_count": 13,
      "outputs": []
    }
  ]
}