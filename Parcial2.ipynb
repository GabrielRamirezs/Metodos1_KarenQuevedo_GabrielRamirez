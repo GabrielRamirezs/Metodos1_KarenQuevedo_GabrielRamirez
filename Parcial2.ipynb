{
  "cells": [
    {
      "cell_type": "markdown",
      "metadata": {
        "colab_type": "text",
        "id": "view-in-github"
      },
      "source": [
        "<a href=\"https://colab.research.google.com/github/GabrielRamirezs/Metodos1_KarenQuevedo_GabrielRamirez/blob/main/Parcial2.ipynb\" target=\"_parent\"><img src=\"https://colab.research.google.com/assets/colab-badge.svg\" alt=\"Open In Colab\"/></a>"
      ]
    },
    {
      "cell_type": "code",
      "execution_count": null,
      "metadata": {
        "id": "fycoZZ4Rspfv"
      },
      "outputs": [],
      "source": [
        "import numpy as np\n",
        "import matplotlib.pyplot as plt"
      ]
    },
    {
      "cell_type": "code",
      "execution_count": null,
      "metadata": {
        "id": "MeweiYrRs06y"
      },
      "outputs": [],
      "source": [
        "#24\n",
        "import numpy as np\n",
        "import matplotlib.pyplot as plt\n",
        "\n",
        "k = 1.9429303960 \n",
        "g_target = -9.813646 \n",
        "\n",
        "def gk_integrand(r, phi, x, y, z):\n",
        "    denominador = x**2 + y**2 + z**2 - 2*r*x*np.cos(phi) - 2*r*y*np.sin(phi) + r**2\n",
        "    denominador = np.maximum(denominador, 1e-10)\n",
        "    return (z * r) / (denominador**(3/2))\n",
        "\n",
        "def double_gauss_quad(f, a, b, c, d, N, x, y, z):\n",
        "    roots, weights = np.polynomial.legendre.leggauss(N)\n",
        "    r_vals = 0.5 * (b - a) * roots + 0.5 * (b + a)\n",
        "    phi_vals = 0.5 * (d - c) * roots + 0.5 * (d + c)\n",
        "\n",
        "    integral = 0\n",
        "    for i in range(N):\n",
        "        for j in range(N):\n",
        "            integral += weights[i] * weights[j] * f(r_vals[i], phi_vals[j], x, y, z)\n",
        "    integral *= 0.25 * (b - a) * (d - c)\n",
        "    return integral\n",
        "\n",
        "def calculate_gk(x, y, z, N=50):\n",
        "    r_min, r_max = 0, 1  \n",
        "    phi_min, phi_max = 0, 2*np.pi  \n",
        "    \n",
        "    integral_value = double_gauss_quad(gk_integrand, r_min, r_max, phi_min, phi_max, N, x, y, z)\n",
        "    gk_value = -k * integral_value\n",
        "    return gk_value\n",
        "\n",
        "g_at_pole = calculate_gk(0, 0, 0.2)\n",
        "print(f\"Campo gravitacional en (0, 0, 0.2): {g_at_pole} m/s²\")\n",
        "\n",
        "if np.isclose(g_at_pole, g_target, atol=1e-6):\n",
        "    print(\"El campo gravitacional coincide con el valor objetivo.\")\n",
        "else:\n",
        "    print(\"El campo gravitacional no coincide con el valor objetivo.\")\n",
        "\n",
        "radii = [0, 0.125, 0.25, 0.38, 0.5]\n",
        "phi_vals = np.linspace(0, 2*np.pi, 100)\n",
        "\n",
        "plt.figure(figsize=(10, 6))\n",
        "for R in radii:\n",
        "    g_values = []\n",
        "    for phi in phi_vals:\n",
        "        x = R * np.cos(phi)\n",
        "        y = R * np.sin(phi)\n",
        "        g = calculate_gk(x, y, 0.2)\n",
        "        g_values.append(g)\n",
        "    plt.plot(phi_vals, g_values, label=f'R = {R:.2f}')\n",
        "\n",
        "plt.xlabel(r'$\\phi$ [Rad]')\n",
        "plt.ylabel(r'$g_k(\\phi)$ [m/s²]')\n",
        "plt.title('Comportamiento Azimutal del Campo Gravitacional')\n",
        "plt.legend()\n",
        "plt.grid()\n",
        "plt.show()\n",
        "\n",
        "# La gravedad no depende del ángulo sobre la tierra debido a que el planeta es un esféra, la distribución de masa\n",
        "#es uniforme entonces el campo gravitacional siempre es el mismo sin importar el ángulo. También se debe a que la \n",
        "# fuerza gravitacional es una fuerza central por lo que solo denpende de la distancia y no de la dirección angular. \n",
        "\n",
        "# valores de la gravedad en R=0.5 y en el borde R=1 \n",
        "# Calcular el campo gravitacional en el ecuador (R = 0.5) y en el borde (R = 1)\n",
        "g_ecuador = calculate_gk(0.5, 0, 0.2)\n",
        "g_borde = calculate_gk(1, 0, 0.2)\n",
        "\n",
        "print(f\"Campo gravitacional en el ecuador (R = 0.5): {g_ecuador} m/s²\")\n",
        "print(f\"Campo gravitacional en el borde (R = 1): {g_borde} m/s²\")\n",
        "\n",
        "#A un terraplanista se le puede argumentar que los cálculos muestran porque la tierra es una esféra. \n",
        "# En caso de que la tierra fuera plana la gráfica sería distinta, es decir no constante \n",
        "# pues la fuerza central de la gravedad no afectaría igual a cada parte de  la superficie de la tierra. "
      ]
    },
    {
      "cell_type": "code",
      "execution_count": null,
      "metadata": {
        "id": "9WliyXuxs-Dt"
      },
      "outputs": [],
      "source": [
        "#25\n"
      ]
    },
    {
      "cell_type": "code",
      "execution_count": null,
      "metadata": {
        "id": "eRXMw7GNs_F0"
      },
      "outputs": [],
      "source": [
        "#26\n"
      ]
    },
    {
      "cell_type": "code",
      "execution_count": 16,
      "metadata": {
        "colab": {
          "base_uri": "https://localhost:8080/"
        },
        "id": "CquB9evg0-Dc",
        "outputId": "4abf9bf0-eda7-498b-abb7-36052c6d6a5f"
      },
      "outputs": [
        {
          "name": "stdout",
          "output_type": "stream",
          "text": [
            "Iteración 0: Error = 1.8074445955245366\n",
            "Iteración 1000: Error = 0.004167128664762355\n",
            "Iteración 2000: Error = 0.000909973958846501\n",
            "Iteración 3000: Error = 0.0008009087164992513\n",
            "Iteración 4000: Error = 0.0007965711600717548\n",
            "Iteración 5000: Error = 0.0007948565824130037\n",
            "Iteración 6000: Error = 0.0007933783808608705\n",
            "Iteración 7000: Error = 0.0007920486011038164\n",
            "Iteración 8000: Error = 0.0007908484497824627\n",
            "Iteración 9000: Error = 0.0007897650379385619\n",
            "Puntos xi: -0.014373898601936193 -0.05669191629730251 0.7982313464627263 -0.7993742805291237\n",
            "Pesos wi: 1.2387772298978894 -0.27385513707729214 0.5191941417111275 0.5158825126073346\n",
            "Integral aproximada: 1.687268591524483\n",
            "Valor real de la integral: 1.682941969615793\n",
            "Diferencia entre la integral aproximada y real: 0.004326621908689932\n"
          ]
        }
      ],
      "source": [
        "#27\n",
        "def equations(vars):\n",
        "    x0, x1, x2, x3, w0, w1, w2, w3 = vars\n",
        "    eqs = np.zeros(8)\n",
        "    eqs[0] = w0 + w1 + w2 + w3 - 2\n",
        "    eqs[1] = w0 * x0 + w1 * x1 + w2 * x2 + w3 * x3\n",
        "    eqs[2] = w0 * x0**2 + w1 * x1**2 + w2 * x2**2 + w3 * x3**2 - 2/3\n",
        "    eqs[3] = w0 * x0**3 + w1 * x1**3 + w2 * x2**3 + w3 * x3**3\n",
        "    eqs[4] = w0 * x0**4 + w1 * x1**4 + w2 * x2**4 + w3 * x3**4 - 2/5\n",
        "    eqs[5] = w0 * x0**5 + w1 * x1**5 + w2 * x2**5 + w3 * x3**5\n",
        "    eqs[6] = w0 * x0**6 + w1 * x1**6 + w2 * x2**6 + w3 * x3**6 - 2/7\n",
        "    eqs[7] = w0 * x0**7 + w1 * x1**7 + w2 * x2**7 + w3 * x3**7\n",
        "    return eqs\n",
        "\n",
        "def gradient_descent(equations, lr=0.01, tol=1e-6, max_iter=10000):\n",
        "    resultado = np.random.uniform(-1, 1, size=8)\n",
        "\n",
        "    for i in range(max_iter):\n",
        "        eqs = equations(resultado)\n",
        "        error = np.sum(eqs**2)\n",
        "\n",
        "        if error < tol:\n",
        "            print(f\"Convergencia lograda en {i} iteraciones con error {error}\")\n",
        "            break\n",
        "\n",
        "        grad = np.zeros_like(resultado)\n",
        "        h = 1e-6\n",
        "\n",
        "        for j in range(len(resultado)):\n",
        "            vars_step = np.copy(resultado)\n",
        "            vars_step[j] += h\n",
        "            grad[j] = (np.sum(equations(vars_step)**2) - error) / h\n",
        "\n",
        "        resultado -= lr * grad\n",
        "\n",
        "        if i % 1000 == 0:\n",
        "            print(f\"Iteración {i}: Error = {error}\")\n",
        "\n",
        "    return resultado\n",
        "\n",
        "solucion = gradient_descent(equations, lr=0.01, tol=0.0005)\n",
        "\n",
        "\n",
        "x0, x1, x2, x3, w0, w1, w2, w3 = solucion\n",
        "\n",
        "print(\"Puntos xi:\", x0, x1, x2, x3)\n",
        "print(\"Pesos wi:\", w0, w1, w2, w3)\n",
        "\n",
        "\n",
        "def f(x):\n",
        "    return np.cos(x)\n",
        "\n",
        "\n",
        "I_approx = w0 * f(x0) + w1 * f(x1) + w2 * f(x2) + w3 * f(x3)\n",
        "I_real = 2 * np.sin(1)\n",
        "\n",
        "print(f\"Integral aproximada: {I_approx}\")\n",
        "print(f\"Valor real de la integral: {I_real}\")\n",
        "\n",
        "\n",
        "precision = abs(I_approx - I_real)\n",
        "print(f\"Diferencia entre la integral aproximada y real: {precision}\")\n"
      ]
    },
    {
      "cell_type": "code",
      "execution_count": 4,
      "metadata": {
        "colab": {
          "base_uri": "https://localhost:8080/"
        },
        "id": "mDRPSwNjtEmD",
        "outputId": "1aef8db4-3cdb-49bb-e68b-548769799db1"
      },
      "outputs": [
        {
          "data": {
            "text/plain": [
              "array([ 8.51, 10.68, 12.24, 13.66, 15.37, 17.15, 19.66, 24.69])"
            ]
          },
          "execution_count": 4,
          "metadata": {},
          "output_type": "execute_result"
        }
      ],
      "source": [
        "#Algebra lineal\n",
        "\n",
        "C = np.array([8.51, 10.68, 12.24, 13.66, 15.37, 17.15, 19.66, 24.69])\n"
      ]
    },
    {
      "cell_type": "code",
      "execution_count": null,
      "metadata": {
        "id": "aNXwjQCxAVDd"
      },
      "outputs": [],
      "source": []
    }
  ],
  "metadata": {
    "colab": {
      "authorship_tag": "ABX9TyNSepNg8EbTMVs/yBi5ntgD",
      "include_colab_link": true,
      "provenance": []
    },
    "kernelspec": {
      "display_name": "Python 3",
      "name": "python3"
    },
    "language_info": {
      "name": "python"
    }
  },
  "nbformat": 4,
  "nbformat_minor": 0
}
