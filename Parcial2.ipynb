{
  "nbformat": 4,
  "nbformat_minor": 0,
  "metadata": {
    "colab": {
      "provenance": [],
      "authorship_tag": "ABX9TyNSepNg8EbTMVs/yBi5ntgD",
      "include_colab_link": true
    },
    "kernelspec": {
      "name": "python3",
      "display_name": "Python 3"
    },
    "language_info": {
      "name": "python"
    }
  },
  "cells": [
    {
      "cell_type": "markdown",
      "metadata": {
        "id": "view-in-github",
        "colab_type": "text"
      },
      "source": [
        "<a href=\"https://colab.research.google.com/github/GabrielRamirezs/Metodos1_KarenQuevedo_GabrielRamirez/blob/main/Parcial2.ipynb\" target=\"_parent\"><img src=\"https://colab.research.google.com/assets/colab-badge.svg\" alt=\"Open In Colab\"/></a>"
      ]
    },
    {
      "cell_type": "code",
      "execution_count": null,
      "metadata": {
        "id": "fycoZZ4Rspfv"
      },
      "outputs": [],
      "source": [
        "import numpy as np\n",
        "import matplotlib.pyplot as plt"
      ]
    },
    {
      "cell_type": "code",
      "source": [
        "#24\n"
      ],
      "metadata": {
        "id": "MeweiYrRs06y"
      },
      "execution_count": null,
      "outputs": []
    },
    {
      "cell_type": "code",
      "source": [
        "#25\n"
      ],
      "metadata": {
        "id": "9WliyXuxs-Dt"
      },
      "execution_count": null,
      "outputs": []
    },
    {
      "cell_type": "code",
      "source": [
        "#26\n"
      ],
      "metadata": {
        "id": "eRXMw7GNs_F0"
      },
      "execution_count": null,
      "outputs": []
    },
    {
      "cell_type": "code",
      "source": [
        "#27\n",
        "def equations(vars):\n",
        "    x0, x1, x2, x3, w0, w1, w2, w3 = vars\n",
        "    eqs = np.zeros(8)\n",
        "    eqs[0] = w0 + w1 + w2 + w3 - 2\n",
        "    eqs[1] = w0 * x0 + w1 * x1 + w2 * x2 + w3 * x3\n",
        "    eqs[2] = w0 * x0**2 + w1 * x1**2 + w2 * x2**2 + w3 * x3**2 - 2/3\n",
        "    eqs[3] = w0 * x0**3 + w1 * x1**3 + w2 * x2**3 + w3 * x3**3\n",
        "    eqs[4] = w0 * x0**4 + w1 * x1**4 + w2 * x2**4 + w3 * x3**4 - 2/5\n",
        "    eqs[5] = w0 * x0**5 + w1 * x1**5 + w2 * x2**5 + w3 * x3**5\n",
        "    eqs[6] = w0 * x0**6 + w1 * x1**6 + w2 * x2**6 + w3 * x3**6 - 2/7\n",
        "    eqs[7] = w0 * x0**7 + w1 * x1**7 + w2 * x2**7 + w3 * x3**7\n",
        "    return eqs\n",
        "\n",
        "def gradient_descent(equations, lr=0.01, tol=1e-6, max_iter=10000):\n",
        "    resultado = np.random.uniform(-1, 1, size=8)\n",
        "\n",
        "    for i in range(max_iter):\n",
        "        eqs = equations(resultado)\n",
        "        error = np.sum(eqs**2)\n",
        "\n",
        "        if error < tol:\n",
        "            print(f\"Convergencia lograda en {i} iteraciones con error {error}\")\n",
        "            break\n",
        "\n",
        "        grad = np.zeros_like(resultado)\n",
        "        h = 1e-6\n",
        "\n",
        "        for j in range(len(resultado)):\n",
        "            vars_step = np.copy(resultado)\n",
        "            vars_step[j] += h\n",
        "            grad[j] = (np.sum(equations(vars_step)**2) - error) / h\n",
        "\n",
        "        resultado -= lr * grad\n",
        "\n",
        "        if i % 1000 == 0:\n",
        "            print(f\"Iteración {i}: Error = {error}\")\n",
        "\n",
        "    return resultado\n",
        "\n",
        "solucion = gradient_descent(equations, lr=0.01, tol=0.0005)\n",
        "\n",
        "\n",
        "x0, x1, x2, x3, w0, w1, w2, w3 = solucion\n",
        "\n",
        "print(\"Puntos xi:\", x0, x1, x2, x3)\n",
        "print(\"Pesos wi:\", w0, w1, w2, w3)\n",
        "\n",
        "\n",
        "def f(x):\n",
        "    return np.cos(x)\n",
        "\n",
        "\n",
        "I_approx = w0 * f(x0) + w1 * f(x1) + w2 * f(x2) + w3 * f(x3)\n",
        "I_real = 2 * np.sin(1)\n",
        "\n",
        "print(f\"Integral aproximada: {I_approx}\")\n",
        "print(f\"Valor real de la integral: {I_real}\")\n",
        "\n",
        "\n",
        "precision = abs(I_approx - I_real)\n",
        "print(f\"Diferencia entre la integral aproximada y real: {precision}\")\n"
      ],
      "metadata": {
        "colab": {
          "base_uri": "https://localhost:8080/"
        },
        "id": "CquB9evg0-Dc",
        "outputId": "4abf9bf0-eda7-498b-abb7-36052c6d6a5f"
      },
      "execution_count": 16,
      "outputs": [
        {
          "output_type": "stream",
          "name": "stdout",
          "text": [
            "Iteración 0: Error = 1.8074445955245366\n",
            "Iteración 1000: Error = 0.004167128664762355\n",
            "Iteración 2000: Error = 0.000909973958846501\n",
            "Iteración 3000: Error = 0.0008009087164992513\n",
            "Iteración 4000: Error = 0.0007965711600717548\n",
            "Iteración 5000: Error = 0.0007948565824130037\n",
            "Iteración 6000: Error = 0.0007933783808608705\n",
            "Iteración 7000: Error = 0.0007920486011038164\n",
            "Iteración 8000: Error = 0.0007908484497824627\n",
            "Iteración 9000: Error = 0.0007897650379385619\n",
            "Puntos xi: -0.014373898601936193 -0.05669191629730251 0.7982313464627263 -0.7993742805291237\n",
            "Pesos wi: 1.2387772298978894 -0.27385513707729214 0.5191941417111275 0.5158825126073346\n",
            "Integral aproximada: 1.687268591524483\n",
            "Valor real de la integral: 1.682941969615793\n",
            "Diferencia entre la integral aproximada y real: 0.004326621908689932\n"
          ]
        }
      ]
    },
    {
      "cell_type": "code",
      "source": [
        "#Algebra lineal\n",
        "\n",
        "C = np.array([8.51, 10.68, 12.24, 13.66, 15.37, 17.15, 19.66, 24.69])\n"
      ],
      "metadata": {
        "id": "mDRPSwNjtEmD",
        "colab": {
          "base_uri": "https://localhost:8080/"
        },
        "outputId": "1aef8db4-3cdb-49bb-e68b-548769799db1"
      },
      "execution_count": 4,
      "outputs": [
        {
          "output_type": "execute_result",
          "data": {
            "text/plain": [
              "array([ 8.51, 10.68, 12.24, 13.66, 15.37, 17.15, 19.66, 24.69])"
            ]
          },
          "metadata": {},
          "execution_count": 4
        }
      ]
    },
    {
      "cell_type": "code",
      "source": [],
      "metadata": {
        "id": "aNXwjQCxAVDd"
      },
      "execution_count": null,
      "outputs": []
    }
  ]
}