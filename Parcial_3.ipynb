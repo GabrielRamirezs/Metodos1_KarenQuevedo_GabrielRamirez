{
  "nbformat": 4,
  "nbformat_minor": 0,
  "metadata": {
    "colab": {
      "provenance": [],
      "authorship_tag": "ABX9TyOC5BDtrfg0ngydlou5echq",
      "include_colab_link": true
    },
    "kernelspec": {
      "name": "python3",
      "display_name": "Python 3"
    },
    "language_info": {
      "name": "python"
    }
  },
  "cells": [
    {
      "cell_type": "markdown",
      "metadata": {
        "id": "view-in-github",
        "colab_type": "text"
      },
      "source": [
        "<a href=\"https://colab.research.google.com/github/GabrielRamirezs/Metodos1_KarenQuevedo_GabrielRamirez/blob/main/Parcrial_3.ipynb\" target=\"_parent\"><img src=\"https://colab.research.google.com/assets/colab-badge.svg\" alt=\"Open In Colab\"/></a>"
      ]
    },
    {
      "cell_type": "code",
      "execution_count": 1,
      "metadata": {
        "id": "Onu7EPgj2AdZ"
      },
      "outputs": [],
      "source": [
        "import numpy as np\n",
        "import matplotlib as plt\n"
      ]
    },
    {
      "cell_type": "code",
      "source": [
        "#Procesos de Markov\n",
        "#2\n",
        ""
      ],
      "metadata": {
        "id": "BwsQWpAt2HY-"
      },
      "execution_count": 2,
      "outputs": []
    },
    {
      "cell_type": "code",
      "source": [
        "#3"
      ],
      "metadata": {
        "id": "iJiytN5A2MTq"
      },
      "execution_count": 3,
      "outputs": []
    },
    {
      "cell_type": "code",
      "source": [
        "#Hidden Markov Models\n",
        "#1\n"
      ],
      "metadata": {
        "id": "cH9EmuX82OGD"
      },
      "execution_count": 5,
      "outputs": []
    },
    {
      "cell_type": "code",
      "source": [
        "#Ejercicios estimación de parámetros\n",
        "#9"
      ],
      "metadata": {
        "id": "3bbrdO5Y2SMt"
      },
      "execution_count": 6,
      "outputs": []
    },
    {
      "cell_type": "code",
      "source": [
        "#10\n"
      ],
      "metadata": {
        "id": "e6le3Pj92ZT7"
      },
      "execution_count": 7,
      "outputs": []
    },
    {
      "cell_type": "code",
      "source": [
        "#Ejercicios: Hypothesis testing\n",
        "#4"
      ],
      "metadata": {
        "id": "M-iNQiPG2cO1"
      },
      "execution_count": null,
      "outputs": []
    }
  ]
}
