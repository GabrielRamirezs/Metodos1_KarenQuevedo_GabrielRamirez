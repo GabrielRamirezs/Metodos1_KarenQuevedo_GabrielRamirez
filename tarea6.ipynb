{
  "nbformat": 4,
  "nbformat_minor": 0,
  "metadata": {
    "colab": {
      "provenance": [],
      "authorship_tag": "ABX9TyONccFOhs0Jhw4YoweFWx6n",
      "include_colab_link": true
    },
    "kernelspec": {
      "name": "python3",
      "display_name": "Python 3"
    },
    "language_info": {
      "name": "python"
    }
  },
  "cells": [
    {
      "cell_type": "markdown",
      "metadata": {
        "id": "view-in-github",
        "colab_type": "text"
      },
      "source": [
        "<a href=\"https://colab.research.google.com/github/GabrielRamirezs/Metodos1_KarenQuevedo_GabrielRamirez/blob/main/tarea6.ipynb\" target=\"_parent\"><img src=\"https://colab.research.google.com/assets/colab-badge.svg\" alt=\"Open In Colab\"/></a>"
      ]
    },
    {
      "cell_type": "code",
      "execution_count": null,
      "metadata": {
        "id": "ZvGtbHOwzdki"
      },
      "outputs": [],
      "source": [
        "import numpy as np\n",
        "import matplotlib.pyplot as plt"
      ]
    },
    {
      "cell_type": "code",
      "source": [
        "#Ejercicios Axiomas de probabilidad\n",
        "#1"
      ],
      "metadata": {
        "id": "5dI2sl-3154m"
      },
      "execution_count": null,
      "outputs": []
    },
    {
      "cell_type": "code",
      "source": [
        "#2"
      ],
      "metadata": {
        "id": "6I9vX9DO2B-1"
      },
      "execution_count": null,
      "outputs": []
    },
    {
      "cell_type": "code",
      "source": [
        "#3"
      ],
      "metadata": {
        "id": "zomCvpRX2C67"
      },
      "execution_count": null,
      "outputs": []
    },
    {
      "cell_type": "code",
      "source": [
        "#Ejercicios Probabilidad condicional y total\n",
        "#1"
      ],
      "metadata": {
        "id": "byRFR6Jv2Dhf"
      },
      "execution_count": null,
      "outputs": []
    },
    {
      "cell_type": "code",
      "source": [
        "#2"
      ],
      "metadata": {
        "id": "PIyGZzPk2GMv"
      },
      "execution_count": null,
      "outputs": []
    },
    {
      "cell_type": "code",
      "source": [
        "#3"
      ],
      "metadata": {
        "id": "JW8J5Ge52ISw"
      },
      "execution_count": null,
      "outputs": []
    },
    {
      "cell_type": "code",
      "source": [
        "#Teorema de Bayes\n",
        "#1"
      ],
      "metadata": {
        "id": "LoeBBxrw2I07"
      },
      "execution_count": null,
      "outputs": []
    },
    {
      "cell_type": "code",
      "source": [
        "#2"
      ],
      "metadata": {
        "id": "0KYhkWhZ2PYX"
      },
      "execution_count": null,
      "outputs": []
    },
    {
      "cell_type": "code",
      "source": [
        "#3"
      ],
      "metadata": {
        "id": "O-VxegDz2P2I"
      },
      "execution_count": null,
      "outputs": []
    },
    {
      "cell_type": "code",
      "source": [
        "#4"
      ],
      "metadata": {
        "id": "_Xjk6kIZ2QWY"
      },
      "execution_count": null,
      "outputs": []
    },
    {
      "cell_type": "code",
      "source": [
        "#Técnicas de conteo"
      ],
      "metadata": {
        "id": "TzezerKc2Q1l"
      },
      "execution_count": null,
      "outputs": []
    },
    {
      "cell_type": "code",
      "source": [
        "#1"
      ],
      "metadata": {
        "id": "WUza3EaA2UTd"
      },
      "execution_count": null,
      "outputs": []
    },
    {
      "cell_type": "code",
      "source": [
        "#2"
      ],
      "metadata": {
        "id": "QR2aLfXi2V5H"
      },
      "execution_count": null,
      "outputs": []
    },
    {
      "cell_type": "code",
      "source": [
        "#3"
      ],
      "metadata": {
        "id": "K_sspmbY2WX-"
      },
      "execution_count": null,
      "outputs": []
    },
    {
      "cell_type": "code",
      "source": [
        "#4"
      ],
      "metadata": {
        "id": "2QON35wk2W5K"
      },
      "execution_count": null,
      "outputs": []
    },
    {
      "cell_type": "code",
      "source": [
        "#5"
      ],
      "metadata": {
        "id": "nWFR4r_C2Zno"
      },
      "execution_count": null,
      "outputs": []
    },
    {
      "cell_type": "code",
      "source": [
        "#6"
      ],
      "metadata": {
        "id": "03hUa16u2aTQ"
      },
      "execution_count": null,
      "outputs": []
    },
    {
      "cell_type": "code",
      "source": [
        "#7"
      ],
      "metadata": {
        "id": "8cUjBWmG2bNQ"
      },
      "execution_count": null,
      "outputs": []
    },
    {
      "cell_type": "code",
      "source": [
        "#8"
      ],
      "metadata": {
        "id": "0tcm5N3N2b-S"
      },
      "execution_count": null,
      "outputs": []
    },
    {
      "cell_type": "code",
      "source": [
        "#9"
      ],
      "metadata": {
        "id": "_E2_3XVj2ibO"
      },
      "execution_count": null,
      "outputs": []
    },
    {
      "cell_type": "code",
      "source": [
        "#10"
      ],
      "metadata": {
        "id": "Jw6Q43lB2jS_"
      },
      "execution_count": null,
      "outputs": []
    },
    {
      "cell_type": "code",
      "source": [
        "#11"
      ],
      "metadata": {
        "id": "Mlp6sW842kBM"
      },
      "execution_count": null,
      "outputs": []
    },
    {
      "cell_type": "code",
      "source": [
        "#12"
      ],
      "metadata": {
        "id": "WgvOUtZs2sNJ"
      },
      "execution_count": null,
      "outputs": []
    },
    {
      "cell_type": "code",
      "source": [
        "#13"
      ],
      "metadata": {
        "id": "y9fbOKzD2tEP"
      },
      "execution_count": null,
      "outputs": []
    },
    {
      "cell_type": "code",
      "source": [
        "#14"
      ],
      "metadata": {
        "id": "P6SsFmcE21wF"
      },
      "execution_count": null,
      "outputs": []
    },
    {
      "cell_type": "code",
      "source": [
        "#15"
      ],
      "metadata": {
        "id": "Q7zreMxR22QK"
      },
      "execution_count": null,
      "outputs": []
    },
    {
      "cell_type": "code",
      "source": [
        "#16"
      ],
      "metadata": {
        "id": "4WJ7nfAI23FK"
      },
      "execution_count": null,
      "outputs": []
    },
    {
      "cell_type": "code",
      "source": [
        "#17"
      ],
      "metadata": {
        "id": "qAjROtoe24xS"
      },
      "execution_count": null,
      "outputs": []
    },
    {
      "cell_type": "code",
      "source": [
        "#18"
      ],
      "metadata": {
        "id": "sdi1C2eT25ad"
      },
      "execution_count": null,
      "outputs": []
    },
    {
      "cell_type": "code",
      "source": [
        "#19"
      ],
      "metadata": {
        "id": "xhljBd0h25_N"
      },
      "execution_count": null,
      "outputs": []
    },
    {
      "cell_type": "code",
      "source": [
        "#20"
      ],
      "metadata": {
        "id": "ryhQrPn026me"
      },
      "execution_count": null,
      "outputs": []
    },
    {
      "cell_type": "code",
      "source": [
        "#Generales de Probabilidad\n",
        "#1\n",
        "outcomes = np.array([(x, y) for x in range(1, 7) for y in range(1, 7)])\n",
        "A = outcomes[np.sum(outcomes, axis=1) <= 3]\n",
        "B = outcomes[outcomes[:, 0] % 2 != 0]\n",
        "P_A = len(A) / len(outcomes)\n",
        "P_B = len(B) / len(outcomes)\n",
        "P_A_or_B = len(np.unique(np.vstack((A, B)), axis=0)) / len(outcomes)\n",
        "P_not_A = 1 - P_A\n",
        "\n",
        "print(f\"P(A): {P_A}, P(B): {P_B}, P(A ∪ B): {P_A_or_B}, P(A^c): {P_not_A}\")"
      ],
      "metadata": {
        "id": "4OxS0CGu27S1",
        "colab": {
          "base_uri": "https://localhost:8080/"
        },
        "outputId": "5c22cdd8-e5c0-4689-cef5-0089e654bdba"
      },
      "execution_count": null,
      "outputs": [
        {
          "output_type": "stream",
          "name": "stdout",
          "text": [
            "P(A): 0.08333333333333333, P(B): 0.5, P(A ∪ B): 0.5277777777777778, P(A^c): 0.9166666666666666\n"
          ]
        }
      ]
    },
    {
      "cell_type": "code",
      "source": [
        "#2\n",
        "total_cells = 50\n",
        "defectives = 2\n",
        "n_samples = 5\n",
        "P_no_defective = np.prod([(total_cells - defectives - i) / (total_cells - i) for i in range(n_samples)])\n",
        "P_at_least_one_defective = 1 - P_no_defective\n",
        "\n",
        "print(f\"P(A): {P_at_least_one_defective}\")"
      ],
      "metadata": {
        "id": "ZJP8HAbu2_pp",
        "colab": {
          "base_uri": "https://localhost:8080/"
        },
        "outputId": "2315c22a-8759-40bb-874f-86dcce03bc46"
      },
      "execution_count": null,
      "outputs": [
        {
          "output_type": "stream",
          "name": "stdout",
          "text": [
            "P(A): 0.19183673469387763\n"
          ]
        }
      ]
    },
    {
      "cell_type": "code",
      "source": [
        "#3\n",
        "P_D = 0.6\n",
        "P_C = 0.8\n",
        "P_D_and_C = 0.5\n",
        "P_D_or_C = P_D + P_C - P_D_and_C\n",
        "print(f\"P(D ∪ C): {P_D_or_C}\")\n",
        "P_only_one = P_D_or_C - P_D_and_C\n",
        "print(f\"P(Solo uno): {P_only_one}\")"
      ],
      "metadata": {
        "id": "MDxgXg3x3Ck_",
        "colab": {
          "base_uri": "https://localhost:8080/"
        },
        "outputId": "3cd9066d-6963-4a27-facf-12621df3e917"
      },
      "execution_count": null,
      "outputs": [
        {
          "output_type": "stream",
          "name": "stdout",
          "text": [
            "P(D ∪ C): 0.8999999999999999\n",
            "P(Solo uno): 0.3999999999999999\n"
          ]
        }
      ]
    },
    {
      "cell_type": "code",
      "source": [
        "#4\n",
        "import itertools\n",
        "import random\n",
        "\n",
        "def probabilidad_sin_cumpleaños_repetido(n):\n",
        "    dias_totales = 365\n",
        "    probabilidad = 1.0\n",
        "    for i in range(n):\n",
        "        probabilidad *= (dias_totales - i) / dias_totales\n",
        "    return probabilidad\n",
        "valores_n = list(range(1, 81))\n",
        "probabilidades = [probabilidad_sin_cumpleaños_repetido(n) for n in valores_n]"
      ],
      "metadata": {
        "id": "EfF-e-Lf3D9r"
      },
      "execution_count": null,
      "outputs": []
    },
    {
      "cell_type": "code",
      "source": [
        "#5\n",
        "eventos_totales = 36\n",
        "eventos_suma_8 = len([(x, y) for x in range(1, 7) for y in range(1, 7) if x + y == 8])\n",
        "P_A = eventos_suma_8 / eventos_totales\n",
        "eventos_segundo_impar = len([(x, y) for x in range(1, 7) for y in range(1, 7) if y % 2 != 0])\n",
        "P_B = eventos_segundo_impar / eventos_totales\n",
        "eventos_A_interseccion_B = len([(x, y) for x in range(1, 7) for y in range(1, 7) if x + y == 8 and y % 2 != 0])\n",
        "P_A_interseccion_B = eventos_A_interseccion_B / eventos_totales\n",
        "producto_probabilidades = P_A * P_B"
      ],
      "metadata": {
        "id": "pbUZh2NF3EeB"
      },
      "execution_count": null,
      "outputs": []
    },
    {
      "cell_type": "code",
      "source": [
        "#6\n",
        "N = 10**5\n",
        "experimentos_par = sum(1 for _ in range(N) if len(set(random.choices(range(1, 7), k=3))) < 3) / N\n",
        "P_resultados = {\n",
        "    \"probabilidades_n\": (valores_n, probabilidades),\n",
        "    \"probabilidad_A\": P_A,\n",
        "    \"probabilidad_B\": P_B,\n",
        "    \"interseccion\": P_A_interseccion_B,\n",
        "}\n"
      ],
      "metadata": {
        "id": "dyBkMO_c3GZ-"
      },
      "execution_count": null,
      "outputs": []
    },
    {
      "cell_type": "code",
      "source": [
        "#7"
      ],
      "metadata": {
        "id": "t2Ysqdpl3G6u"
      },
      "execution_count": null,
      "outputs": []
    },
    {
      "cell_type": "code",
      "source": [
        "#12"
      ],
      "metadata": {
        "id": "D8UJDPWW3HdH"
      },
      "execution_count": null,
      "outputs": []
    },
    {
      "cell_type": "code",
      "source": [
        "#Problemas Hidden Markov Models\n",
        "#1\n",
        "T = np.array([[0.8, 0.2], [0.2, 0.8]])\n",
        "E = np.array([[0.5, 0.9], [0.5, 0.1]])\n",
        "observed_sequence = [\"S\", \"C\", \"C\", \"C\", \"S\", \"C\", \"S\", \"C\"]\n",
        "states = [\"J\", \"B\"]\n",
        "emissions = [\"C\", \"S\"]\n",
        "state_index = {state: i for i, state in enumerate(states)}\n",
        "emission_index = {emission: i for i, emission in enumerate(emissions)}\n",
        "tau = np.array([0.2, 0.8])\n",
        "\n",
        "def viterbi(T, E, tau, observed_sequence):\n",
        "    n_states = T.shape[0]\n",
        "    n_observations = len(observed_sequence)\n",
        "    dp = np.zeros((n_states, n_observations))\n",
        "    backpointer = np.zeros((n_states, n_observations), dtype=int)\n",
        "    first_obs = emission_index[observed_sequence[0]]\n",
        "    dp[:, 0] = tau * E[:, first_obs]\n",
        "    for t in range(1, n_observations):\n",
        "        obs_idx = emission_index[observed_sequence[t]]\n",
        "        for s in range(n_states):\n",
        "            probs = dp[:, t-1] * T[:, s] * E[s, obs_idx]\n",
        "            dp[s, t] = np.max(probs)\n",
        "            backpointer[s, t] = np.argmax(probs)\n",
        "    best_last_state = np.argmax(dp[:, -1])\n",
        "    best_prob = dp[best_last_state, -1]\n",
        "    best_path = [best_last_state]\n",
        "    for t in range(n_observations - 1, 0, -1):\n",
        "        best_last_state = backpointer[best_last_state, t]\n",
        "        best_path.insert(0, best_last_state)\n",
        "    best_path_states = [states[state] for state in best_path]\n",
        "    return best_path_states, best_prob\n",
        "\n",
        "best_sequence, best_prob = viterbi(T, E, tau, observed_sequence)\n",
        "print(best_sequence, best_prob)\n"
      ],
      "metadata": {
        "colab": {
          "base_uri": "https://localhost:8080/"
        },
        "id": "TJguLgFrsk8i",
        "outputId": "0e08f763-10e2-4437-c5b3-0e4b5196904f"
      },
      "execution_count": null,
      "outputs": [
        {
          "output_type": "stream",
          "name": "stdout",
          "text": [
            "['J', 'J', 'J', 'J', 'J', 'J', 'J', 'J'] 0.0009555148800000006\n"
          ]
        }
      ]
    },
    {
      "cell_type": "code",
      "source": [
        "#Ejercicios Muestreo\n",
        "#7\n",
        "np.random.seed(42)\n",
        "data = np.random.normal(75, 10, 1000)\n",
        "mean_data = np.mean(data)\n",
        "median_data = np.percentile(data, 50)\n",
        "sorted_data = np.sort(data)\n",
        "cdf = np.arange(1, len(data) + 1) / len(data)\n",
        "n_bootstrap = 1000\n",
        "bootstrap_means = [np.mean(np.random.choice(data, size=len(data), replace=True)) for _ in range(n_bootstrap)]\n",
        "mu_direct = np.mean(bootstrap_means)\n",
        "sigma_direct = np.std(bootstrap_means)\n",
        "x = np.linspace(min(bootstrap_means), max(bootstrap_means), 100)\n",
        "gaussian_curve = (1 / (sigma_direct * np.sqrt(2 * np.pi))) * np.exp(-0.5 * ((x - mu_direct) / sigma_direct) ** 2)\n",
        "bootstrap_cdf = np.sort(bootstrap_means)\n",
        "bootstrap_median = np.percentile(bootstrap_means, 50)\n",
        "plt.figure(figsize=(12, 6))\n",
        "plt.subplot(1, 2, 1)\n",
        "plt.hist(bootstrap_means, bins=30, density=True, alpha=0.6, color='g', label='Bootstrap Means')\n",
        "plt.plot(x, gaussian_curve, 'r-', label=f'Gaussian Fit\\n$\\mu={mu_direct:.2f}, \\sigma={sigma_direct:.2f}$')\n",
        "plt.xlabel('Media bootstrap')\n",
        "plt.ylabel('Densidad')\n",
        "plt.title('Distribución de muestreo (Bootstrapping)')\n",
        "plt.legend()\n",
        "plt.subplot(1, 2, 2)\n",
        "plt.plot(sorted_data, cdf, label='CDF Datos')\n",
        "plt.plot(bootstrap_cdf, np.arange(1, len(bootstrap_means) + 1) / len(bootstrap_means),\n",
        "         'b--', label='CDF Bootstrap')\n",
        "plt.xlabel('Valor')\n",
        "plt.ylabel('Probabilidad acumulada')\n",
        "plt.title('Distribución acumulada de probabilidad')\n",
        "plt.legend()\n",
        "\n",
        "plt.tight_layout()\n",
        "plt.show()\n"
      ],
      "metadata": {
        "id": "MTdaEFU_3M6p",
        "colab": {
          "base_uri": "https://localhost:8080/",
          "height": 587
        },
        "outputId": "225352b8-afda-4d50-98f6-2778b877ba4f"
      },
      "execution_count": null,
      "outputs": [
        {
          "output_type": "display_data",
          "data": {
            "text/plain": [
              "<Figure size 1200x600 with 2 Axes>"
            ],
            "image/png": "[encoded data removed]"
          },
          "metadata": {}
        }
      ]
    },
    {
      "cell_type": "code",
      "source": [
        "#9\n",
        "\n",
        "def calcular_velocidad_media(v1, v2):\n",
        "    return (2 * v1 * v2) / (v1 + v2)\n",
        "v_ida = 30\n",
        "v_vuelta = 60\n",
        "velocidad_media_9 = calcular_velocidad_media(v_ida, v_vuelta)\n",
        "velocidad_media_9\n"
      ],
      "metadata": {
        "id": "JnewoOli3P9n",
        "colab": {
          "base_uri": "https://localhost:8080/"
        },
        "outputId": "f65574d6-d7a9-4f33-a11e-3964bbb29514"
      },
      "execution_count": null,
      "outputs": [
        {
          "output_type": "execute_result",
          "data": {
            "text/plain": [
              "40.0"
            ]
          },
          "metadata": {},
          "execution_count": 54
        }
      ]
    },
    {
      "cell_type": "code",
      "source": [
        "#10\n",
        "\n",
        "def velocidad_media_ponderada(distancias, velocidades):\n",
        "    total_distancia = sum(distancias)\n",
        "    total_tiempo = sum(d / v for d, v in zip(distancias, velocidades))\n",
        "    return total_distancia / total_tiempo\n",
        "\n",
        "\n",
        "distancias = [100, 150, 200]  # millas\n",
        "velocidades = [50, 60, 80]  # millas por hora\n",
        "velocidad_media_10 = velocidad_media_ponderada(distancias, velocidades)\n",
        "velocidad_media_10\n"
      ],
      "metadata": {
        "id": "laDkznw13TQa",
        "colab": {
          "base_uri": "https://localhost:8080/"
        },
        "outputId": "eb585c0a-5062-423d-ea46-14706aeac425"
      },
      "execution_count": null,
      "outputs": [
        {
          "output_type": "execute_result",
          "data": {
            "text/plain": [
              "64.28571428571429"
            ]
          },
          "metadata": {},
          "execution_count": 56
        }
      ]
    },
    {
      "cell_type": "code",
      "source": [
        "#11\n",
        "import numpy as np\n",
        "\n",
        "N = 10000\n",
        "X1 = -3 * np.log(np.random.rand(N) * np.random.rand(N))\n",
        "U1 = np.random.rand(N)\n",
        "U2 = np.random.rand(N)\n",
        "Z = np.sqrt(-2 * np.log(U1)) * np.cos(2 * np.pi * U2)\n",
        "X2 = 5 + 2 * Z\n",
        "X3 = 10 * np.random.rand(N)\n",
        "X = X1 + 2 * X2 - X3\n",
        "mean_X_direct = np.mean(X)\n",
        "var_X_direct = np.var(X, ddof=1)\n",
        "a = np.array([1, 2, -1])\n",
        "means = np.array([np.mean(X1), np.mean(X2), np.mean(X3)])\n",
        "mean_X_theoretical = a @ means\n",
        "cov_matrix = np.cov(np.vstack([X1, X2, X3]), ddof=1)\n",
        "var_X_theoretical = a @ cov_matrix @ a\n",
        "def pearson_corr(X, Y):\n",
        "    return np.cov(X, Y, ddof=1)[0, 1] / (np.std(X, ddof=1) * np.std(Y, ddof=1))\n",
        "corr_X1_X2 = pearson_corr(X1, X2)\n",
        "corr_X1_X3 = pearson_corr(X1, X3)\n",
        "corr_X2_X3 = pearson_corr(X2, X3)\n",
        "(mean_X_direct, var_X_direct, mean_X_theoretical, var_X_theoretical, corr_X1_X2, corr_X1_X3, corr_X2_X3)\n"
      ],
      "metadata": {
        "id": "_N7Nbla_3T78",
        "colab": {
          "base_uri": "https://localhost:8080/"
        },
        "outputId": "bbd021ed-94ee-462d-fbd3-64a6511820a8"
      },
      "execution_count": null,
      "outputs": [
        {
          "output_type": "execute_result",
          "data": {
            "text/plain": [
              "(11.069660103843516,\n",
              " 42.78255910835116,\n",
              " 11.069660103843516,\n",
              " 42.78255910835117,\n",
              " 0.004278010162478099,\n",
              " -0.001530438436121782,\n",
              " -0.005834002220744797)"
            ]
          },
          "metadata": {},
          "execution_count": 58
        }
      ]
    },
    {
      "cell_type": "code",
      "source": [
        "#Ejercicios Método de MonteCarlo\n",
        "#6\n",
        "N = 10000\n",
        "R = 1\n",
        "rho = 1\n",
        "phi = np.random.uniform(0, 2 * np.pi, N)\n",
        "theta = np.random.uniform(0, np.pi, N)\n",
        "x = R * np.sin(theta) * np.cos(phi)\n",
        "y = R * np.sin(theta) * np.sin(phi)\n",
        "z = R * np.cos(theta)\n",
        "I_xx = (1 / N) * np.sum(y**2 + z**2)\n",
        "I_yy = (1 / N) * np.sum(x**2 + z**2)\n",
        "I_zz = (1 / N) * np.sum(x**2 + y**2)\n",
        "I_xy = -(1 / N) * np.sum(x * y)\n",
        "I_theoretical = 2 / 5 * R**2\n",
        "\n",
        "print(\"Estimación Monte Carlo de los momentos de inercia:\")\n",
        "print(f\"I_xx ≈ {I_xx}\")\n",
        "print(f\"I_yy ≈ {I_yy}\")\n",
        "print(f\"I_zz ≈ {I_zz}\")\n",
        "print(f\"I_xy ≈ {I_xy}\")\n",
        "print(\"\\nResultados teóricos (I_xx, I_yy, I_zz):\")\n",
        "print(f\"I_theoretical = {I_theoretical}\")\n"
      ],
      "metadata": {
        "id": "dprAF7IC3Ukw",
        "colab": {
          "base_uri": "https://localhost:8080/"
        },
        "outputId": "a25403bb-96f2-4b20-e964-8a075dca353e"
      },
      "execution_count": null,
      "outputs": [
        {
          "output_type": "stream",
          "name": "stdout",
          "text": [
            "Estimación Monte Carlo de los momentos de inercia:\n",
            "I_xx ≈ 0.7518948392013033\n",
            "I_yy ≈ 0.7460323846830336\n",
            "I_zz ≈ 0.5020727761156633\n",
            "I_xy ≈ 0.0009536934902458417\n",
            "\n",
            "Resultados teóricos (I_xx, I_yy, I_zz):\n",
            "I_theoretical = 0.4\n"
          ]
        }
      ]
    },
    {
      "cell_type": "code",
      "source": [
        "#9\n",
        "import numpy as np\n",
        "\n",
        "def gamma_function(n):\n",
        "    if n == 1:\n",
        "        return 1\n",
        "    return (n - 1) * gamma_function(n - 1)\n",
        "\n",
        "def beta_pdf(x, alpha, beta):\n",
        "\n",
        "    numerator = gamma_function(alpha + beta) * (x**(alpha - 1)) * ((1 - x)**(beta - 1))\n",
        "    denominator = gamma_function(alpha) * gamma_function(beta)\n",
        "    return numerator / denominator\n",
        "\n",
        "alpha = 2\n",
        "beta = 4\n",
        "tolerance = 0.01\n",
        "np.random.seed(42)\n",
        "num_points = 10000\n",
        "x_test = np.linspace(0, 1, 1000)\n",
        "max_pdf = max(beta_pdf(x, alpha, beta) for x in x_test)\n",
        "x_values = np.random.uniform(0, 1, num_points)\n",
        "y_values = np.random.uniform(0, max_pdf, num_points)\n",
        "under_curve = [y <= beta_pdf(x, alpha, beta) for x, y in zip(x_values, y_values)]\n",
        "area_estimated = (sum(under_curve) / num_points) * (1 * max_pdf)\n",
        "\n",
        "while True:\n",
        "    num_points *= 2\n",
        "    x_values = np.random.uniform(0, 1, num_points)\n",
        "    y_values = np.random.uniform(0, max_pdf, num_points)\n",
        "    under_curve = [y <= beta_pdf(x, alpha, beta) for x, y in zip(x_values, y_values)]\n",
        "    new_area_estimated = (sum(under_curve) / num_points) * (1 * max_pdf)\n",
        "    if abs(new_area_estimated - area_estimated) / area_estimated < tolerance:\n",
        "        area_estimated = new_area_estimated\n",
        "        break\n",
        "\n",
        "print(f\"El área estimada bajo la curva es aproximadamente: {area_estimated:.4f}\")\n"
      ],
      "metadata": {
        "colab": {
          "base_uri": "https://localhost:8080/"
        },
        "id": "UTdRG_zaku_a",
        "outputId": "c9d81857-ae63-468f-e8d1-b13c1907d37e"
      },
      "execution_count": null,
      "outputs": [
        {
          "output_type": "stream",
          "name": "stdout",
          "text": [
            "El área estimada bajo la curva es aproximadamente: 1.0026\n"
          ]
        }
      ]
    }
  ]
}